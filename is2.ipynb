{
 "cells": [
  {
   "cell_type": "code",
   "execution_count": 148,
   "metadata": {
    "colab": {
     "base_uri": "https://localhost:8080/"
    },
    "id": "7GC7MqHeb9lv",
    "outputId": "ba4162ac-ea6b-4bb3-ab82-b8eea7375624"
   },
   "outputs": [
    {
     "name": "stdout",
     "output_type": "stream",
     "text": [
      "[nltk_data] Downloading package punkt to /root/nltk_data...\n",
      "[nltk_data]   Package punkt is already up-to-date!\n",
      "[nltk_data] Downloading package stopwords to /root/nltk_data...\n",
      "[nltk_data]   Package stopwords is already up-to-date!\n",
      "[nltk_data] Downloading package wordnet to /root/nltk_data...\n",
      "[nltk_data]   Package wordnet is already up-to-date!\n"
     ]
    }
   ],
   "source": [
    "import numpy as np\n",
    "import torch\n",
    "import torch.functional as F\n",
    "import pandas as pd\n",
    "\n",
    "import matplotlib.pyplot as plt\n",
    "\n",
    "import nltk\n",
    "nltk.download('punkt')\n",
    "nltk.download('stopwords')\n",
    "nltk.download('wordnet')\n",
    "from nltk.corpus import stopwords\n",
    "from nltk.tokenize import word_tokenize\n",
    "from nltk.stem import PorterStemmer, WordNetLemmatizer\n",
    "ps = PorterStemmer()\n",
    "wnl = WordNetLemmatizer()\n",
    "\n",
    "from sklearn.feature_extraction.text import CountVectorizer\n",
    "\n",
    "from sklearn import svm\n",
    "from sklearn import neighbors\n",
    "from sklearn.naive_bayes import GaussianNB\n",
    "from sklearn.ensemble import RandomForestClassifier\n",
    "from sklearn.linear_model import LogisticRegression\n",
    "from sklearn.neural_network import MLPClassifier"
   ]
  },
  {
   "cell_type": "code",
   "execution_count": 89,
   "metadata": {
    "id": "OwU13OH9dJMB"
   },
   "outputs": [],
   "source": [
    "df = pd.read_csv('train_data.tsv', sep='\\t')"
   ]
  },
  {
   "cell_type": "code",
   "execution_count": 90,
   "metadata": {
    "id": "pEInOPH8djSX"
   },
   "outputs": [],
   "source": [
    "y = df['label'].to_numpy()"
   ]
  },
  {
   "cell_type": "code",
   "execution_count": 91,
   "metadata": {
    "id": "pQjtFxl1djwm"
   },
   "outputs": [],
   "source": [
    "x = df['text_a']"
   ]
  },
  {
   "cell_type": "code",
   "execution_count": 92,
   "metadata": {
    "colab": {
     "base_uri": "https://localhost:8080/"
    },
    "id": "1ExQ11OHdqIX",
    "outputId": "d01f9eba-79f1-4a21-ba21-83600ce31ed2"
   },
   "outputs": [
    {
     "data": {
      "text/plain": [
       "0       #Coronavirus:  Prime  Minister  Boris  Johnson...\n",
       "1       Global  coronavirus  deaths  exceed  800000  h...\n",
       "2       The  US  has  the  highest  number  of  #COVID...\n",
       "3       Many  more  cities  and  states  will  start  ...\n",
       "4       #IndiaFightsCorona:  Japan  commits  Rs  3500 ...\n",
       "                              ...                        \n",
       "6328    The  fight  against  Covid  takes  warriors.  ...\n",
       "6329    The  \"proper\"  way  to  wear  a  surgical  mas...\n",
       "6330    Our  daily  update  is  published.  We’ve  now...\n",
       "6331    Singapore's  Health  ministry  issued  an  adv...\n",
       "6332    Former  Rep.  Trey  Gowdy  wrote  essay  past ...\n",
       "Name: text_a, Length: 6333, dtype: object"
      ]
     },
     "execution_count": 92,
     "metadata": {},
     "output_type": "execute_result"
    }
   ],
   "source": [
    "x"
   ]
  },
  {
   "cell_type": "markdown",
   "metadata": {
    "id": "BjO4kRz_b8ns"
   },
   "source": [
    "# Preprocessing"
   ]
  },
  {
   "cell_type": "markdown",
   "metadata": {
    "id": "MH9BTMPzUcIG"
   },
   "source": [
    "We will remove URLs, special signs (everything apart from letters and spaces), remove repeated whitespace characters, transform text to lowercase, filter out stopwords and stem the remaining words."
   ]
  },
  {
   "cell_type": "code",
   "execution_count": 93,
   "metadata": {
    "id": "HA052Meldz6D"
   },
   "outputs": [],
   "source": [
    "def filter_stem(text):\n",
    "  tokens = nltk.word_tokenize(text)\n",
    "  filtered = [word for word in tokens if not word in stopwords.words('english')]\n",
    "  stemmed = [ps.stem(word) for word in filtered]\n",
    "  #lemmatized = [wnl.lemmatize(word) for word in stemmed]\n",
    "  return \" \".join(stemmed)\n",
    "  \n",
    "def preprocess(df):\n",
    "  df = df.replace(r'http\\S+', '', regex=True)\n",
    "  df = df.replace(r'[^A-Za-z ]+', ' ', regex=True)\n",
    "  df = df.apply(lambda txt: txt.lower())\n",
    "  df = df.replace(r'\\s\\s+', ' ', regex=True)\n",
    "  df = df.apply(filter_stem)\n",
    "  \n",
    "  return df\n"
   ]
  },
  {
   "cell_type": "code",
   "execution_count": 94,
   "metadata": {
    "id": "CnFW2UftlIym"
   },
   "outputs": [],
   "source": [
    "x_prepr = preprocess(x)"
   ]
  },
  {
   "cell_type": "markdown",
   "metadata": {
    "id": "5S_pwUqzxo-h"
   },
   "source": [
    "# Feature construction and basic stats\n",
    "\n"
   ]
  },
  {
   "cell_type": "code",
   "execution_count": 95,
   "metadata": {
    "id": "1-1J8gs-pFnU"
   },
   "outputs": [],
   "source": [
    "def df_to_array(df):\n",
    "  a = []\n",
    "  for i in range(df.shape[0]):\n",
    "    a.append(df[i])\n",
    "  return a\n",
    "\n",
    "def document_term_matrix(df):\n",
    "  ar = df_to_array(df)\n",
    "  vectorizer = CountVectorizer()\n",
    "  X = vectorizer.fit_transform(ar)\n",
    "  words = vectorizer.get_feature_names_out()\n",
    "  dtm = pd.DataFrame(X.toarray(), columns=words)\n",
    "  return dtm"
   ]
  },
  {
   "cell_type": "code",
   "execution_count": 96,
   "metadata": {
    "id": "IepLLRWlr7Ov"
   },
   "outputs": [],
   "source": [
    "dtm = document_term_matrix(x_prepr)"
   ]
  },
  {
   "cell_type": "code",
   "execution_count": 97,
   "metadata": {
    "colab": {
     "base_uri": "https://localhost:8080/"
    },
    "id": "GkPbkiHMr97W",
    "outputId": "33c263dd-e6dc-42e4-8ebd-702882e5ae3a"
   },
   "outputs": [
    {
     "data": {
      "text/plain": [
       "aa          2\n",
       "aadab       1\n",
       "aadajoli    1\n",
       "aai         1\n",
       "aaj         3\n",
       "           ..\n",
       "zoolog      2\n",
       "zoom        1\n",
       "zubymus     1\n",
       "zurich      1\n",
       "zydu        2\n",
       "Length: 8811, dtype: int64"
      ]
     },
     "execution_count": 97,
     "metadata": {},
     "output_type": "execute_result"
    }
   ],
   "source": [
    "dtm.sum(axis=0)"
   ]
  },
  {
   "cell_type": "markdown",
   "metadata": {
    "id": "6FVVTj8bzy6d"
   },
   "source": [
    "## Word frequncy visualization"
   ]
  },
  {
   "cell_type": "code",
   "execution_count": 98,
   "metadata": {
    "colab": {
     "base_uri": "https://localhost:8080/",
     "height": 312
    },
    "id": "wa1amLMFr-na",
    "outputId": "557115a3-55d6-4480-fc37-35d71ffb38f6"
   },
   "outputs": [
    {
     "data": {
      "text/plain": [
       "Text(0, 0.5, 'freq.')"
      ]
     },
     "execution_count": 98,
     "metadata": {},
     "output_type": "execute_result"
    },
    {
     "data": {
      "image/png": "[encoded data removed]",
      "text/plain": [
       "<Figure size 432x288 with 1 Axes>"
      ]
     },
     "metadata": {
      "needs_background": "light"
     },
     "output_type": "display_data"
    }
   ],
   "source": [
    "plt.bar(np.arange(dtm.shape[1]), np.sort(dtm.sum(axis=0).to_numpy())[::-1])\n",
    "plt.title(\"Word frequncies\")\n",
    "plt.xlabel(\"rank\")\n",
    "plt.ylabel(\"freq.\")"
   ]
  },
  {
   "cell_type": "code",
   "execution_count": 99,
   "metadata": {
    "colab": {
     "base_uri": "https://localhost:8080/"
    },
    "id": "DWxt-f18srwU",
    "outputId": "b837f490-af47-407d-df85-a0d85675540f"
   },
   "outputs": [
    {
     "data": {
      "text/plain": [
       "array([   1,    1,    1, ..., 1657, 2059, 4020])"
      ]
     },
     "execution_count": 99,
     "metadata": {},
     "output_type": "execute_result"
    }
   ],
   "source": [
    "np.sort(dtm.sum(axis=0).to_numpy())"
   ]
  },
  {
   "cell_type": "code",
   "execution_count": 100,
   "metadata": {
    "colab": {
     "base_uri": "https://localhost:8080/",
     "height": 312
    },
    "id": "d5tQiFgJuYcs",
    "outputId": "5377f102-dd85-4711-da26-6e6d8bb1ab4c"
   },
   "outputs": [
    {
     "data": {
      "text/plain": [
       "Text(0, 0.5, 'freq.')"
      ]
     },
     "execution_count": 100,
     "metadata": {},
     "output_type": "execute_result"
    },
    {
     "data": {
      "image/png": "[encoded data removed]",
      "text/plain": [
       "<Figure size 432x288 with 1 Axes>"
      ]
     },
     "metadata": {
      "needs_background": "light"
     },
     "output_type": "display_data"
    }
   ],
   "source": [
    "plt.bar(np.arange(100), np.sort(dtm.sum(axis=0).to_numpy())[::-1][:100])\n",
    "plt.title(\"Word frequncies, 100 most common\")\n",
    "plt.xlabel(\"rank\")\n",
    "plt.ylabel(\"freq.\")"
   ]
  },
  {
   "cell_type": "code",
   "execution_count": 101,
   "metadata": {
    "colab": {
     "base_uri": "https://localhost:8080/",
     "height": 338
    },
    "id": "3S3T2zScwAXf",
    "outputId": "fbb08bd5-f6ac-4942-f7c3-fdea3b507e12"
   },
   "outputs": [
    {
     "data": {
      "image/png": "[encoded data removed]",
      "text/plain": [
       "<Figure size 432x288 with 1 Axes>"
      ]
     },
     "metadata": {
      "needs_background": "light"
     },
     "output_type": "display_data"
    }
   ],
   "source": [
    "plt.bar(np.arange(10), np.sort(dtm.sum(axis=0).to_numpy())[::-1][:10])\n",
    "plt.title(\"Word frequncies, 10 most common\")\n",
    "plt.xlabel(\"word\")\n",
    "plt.ylabel(\"freq.\")\n",
    "\n",
    "words = dtm.sum(axis=0).sort_values(ascending=False).index[:10]\n",
    "plt.xticks(np.arange(10), words, rotation=90)\n",
    "plt.show()"
   ]
  },
  {
   "cell_type": "code",
   "execution_count": 102,
   "metadata": {
    "id": "0N9gEv5dwqx-"
   },
   "outputs": [],
   "source": [
    "def load_to_dtm(filename):\n",
    "  df = pd.read_csv(filename, sep='\\t')\n",
    "  y = df['label'].to_numpy()\n",
    "  x = df['text_a']\n",
    "  x_prepr = preprocess(x)\n",
    "  dtm = document_term_matrix(x_prepr)\n",
    "  return x_prepr, y, dtm"
   ]
  },
  {
   "cell_type": "code",
   "execution_count": 103,
   "metadata": {
    "id": "zXV8CWnQyNan"
   },
   "outputs": [],
   "source": [
    "_,_,dtm = load_to_dtm('train_data.tsv')"
   ]
  },
  {
   "cell_type": "code",
   "execution_count": 104,
   "metadata": {
    "colab": {
     "base_uri": "https://localhost:8080/",
     "height": 311
    },
    "id": "H3TDDtY20lNS",
    "outputId": "ce15df74-1914-41c7-d225-a7559b54d2b0"
   },
   "outputs": [
    {
     "data": {
      "image/png": "[encoded data removed]",
      "text/plain": [
       "<Figure size 432x288 with 1 Axes>"
      ]
     },
     "metadata": {
      "needs_background": "light"
     },
     "output_type": "display_data"
    }
   ],
   "source": [
    "freqs = dtm.sum(axis=0).to_numpy()\n",
    "n_bins=100\n",
    "hist = np.histogram(freqs, n_bins)\n",
    "plt.bar(np.arange(n_bins), hist[0])\n",
    "plt.yscale('log')\n",
    "plt.title(\"Histogram of word frequencies\")\n",
    "plt.ylabel(\"# of different words\")\n",
    "plt.xlabel(\"# of occurences\")\n",
    "plt.xticks((np.arange(n_bins + 1) - 0.5)[::10], np.around(hist[1][::10], 0).astype(int), rotation=90)\n",
    "plt.show()"
   ]
  },
  {
   "cell_type": "code",
   "execution_count": 105,
   "metadata": {
    "colab": {
     "base_uri": "https://localhost:8080/",
     "height": 295
    },
    "id": "fJOOlh_Q00cO",
    "outputId": "44a38f48-21ae-4d5e-eacd-1d229f946093"
   },
   "outputs": [
    {
     "data": {
      "image/png": "[encoded data removed]",
      "text/plain": [
       "<Figure size 432x288 with 1 Axes>"
      ]
     },
     "metadata": {
      "needs_background": "light"
     },
     "output_type": "display_data"
    }
   ],
   "source": [
    "freqs = dtm.sum(axis=0).to_numpy()\n",
    "freqs10 = freqs[freqs <= 10]\n",
    "n_bins=10\n",
    "hist = np.histogram(freqs10, n_bins)\n",
    "plt.bar(np.arange(n_bins), hist[0])\n",
    "plt.title(\"Histogram of word frequencies for uncommon words\")\n",
    "plt.ylabel(\"# of different words\")\n",
    "plt.xlabel(\"# of occurences\")\n",
    "plt.xticks(np.arange(n_bins), np.arange(n_bins) + 1)\n",
    "plt.show()"
   ]
  },
  {
   "cell_type": "code",
   "execution_count": 106,
   "metadata": {
    "colab": {
     "base_uri": "https://localhost:8080/"
    },
    "id": "ShRckcTv025i",
    "outputId": "bdc2aa5a-ca1d-4690-8e23-3a72e3da2cb4"
   },
   "outputs": [
    {
     "data": {
      "text/plain": [
       "1013"
      ]
     },
     "execution_count": 106,
     "metadata": {},
     "output_type": "execute_result"
    }
   ],
   "source": [
    "(freqs > 16).sum()"
   ]
  },
  {
   "cell_type": "code",
   "execution_count": 107,
   "metadata": {
    "colab": {
     "base_uri": "https://localhost:8080/"
    },
    "id": "nhCramEX3mBe",
    "outputId": "12774a2b-38ef-4f38-8df2-62ae728e5caf"
   },
   "outputs": [
    {
     "name": "stdout",
     "output_type": "stream",
     "text": [
      "Average # of words per tweet: 16.02\n"
     ]
    }
   ],
   "source": [
    "print(\"Average # of words per tweet: {:.4}\".format(dtm.sum(axis=1).to_numpy().mean()))"
   ]
  },
  {
   "cell_type": "code",
   "execution_count": 108,
   "metadata": {
    "id": "wkYAvlh33sEx"
   },
   "outputs": [],
   "source": [
    "most_common = dtm.sum(axis=0).sort_values(ascending=False).index[:1000]\n",
    "dtmc = dtm[most_common]"
   ]
  },
  {
   "cell_type": "code",
   "execution_count": 109,
   "metadata": {
    "colab": {
     "base_uri": "https://localhost:8080/"
    },
    "id": "zO1BFt6A3x68",
    "outputId": "1a1b07db-a368-48da-cc03-9e10745fa1fa"
   },
   "outputs": [
    {
     "data": {
      "text/plain": [
       "covid         4020\n",
       "case          2059\n",
       "coronaviru    1657\n",
       "test          1637\n",
       "new           1109\n",
       "              ... \n",
       "nyc             17\n",
       "quot            17\n",
       "lock            17\n",
       "perform         17\n",
       "spit            17\n",
       "Length: 1000, dtype: int64"
      ]
     },
     "execution_count": 109,
     "metadata": {},
     "output_type": "execute_result"
    }
   ],
   "source": [
    "x = dtmc\n",
    "dtmc.sum(axis=0)"
   ]
  },
  {
   "cell_type": "markdown",
   "metadata": {
    "id": "zavqdrQASa2S"
   },
   "source": [
    "We observe that after stemming and removing stopwords, the most common words are almost all related to Covid pandemic. We also observe that of the 8800 different words, almost half appear only once. Overall, the vast majority of words appear only a few times, whereas the few most common words appear very often."
   ]
  },
  {
   "cell_type": "markdown",
   "metadata": {
    "id": "SpAOF-dkTgBJ"
   },
   "source": [
    "We transformed the datatset into a Document-Term Matrix (each element represents the number of occurances of a specific word in a specific tweet). We then decided to retain only the first 1000 most common words - we kept 1000 features - in order to remove most of the words that appear very rarely and are therefore more prone to noise and would probably cause overfitting in some models."
   ]
  },
  {
   "cell_type": "markdown",
   "metadata": {
    "id": "ikGJizMeAsab"
   },
   "source": [
    "# Modeling"
   ]
  },
  {
   "cell_type": "markdown",
   "metadata": {
    "id": "oT2Jhhl1QviT"
   },
   "source": [
    "We will try using majority classifier, kNN with different parameters(number of neighbors), SVM, Bayesian classifier and Random Forest with different parameters."
   ]
  },
  {
   "cell_type": "markdown",
   "metadata": {
    "id": "IaM6JPOnGBr2"
   },
   "source": [
    "## Majority classifier"
   ]
  },
  {
   "cell_type": "code",
   "execution_count": 110,
   "metadata": {
    "id": "Kc75_d8jAv4L"
   },
   "outputs": [],
   "source": [
    "def get_default_classifier(x, y):\n",
    "  def model(x):\n",
    "    return np.full(x.shape[0], np.median(y))\n",
    "  return model"
   ]
  },
  {
   "cell_type": "code",
   "execution_count": 111,
   "metadata": {
    "id": "GpwWiyvlA7sP"
   },
   "outputs": [],
   "source": [
    "default_classifier = get_default_classifier(x, y)"
   ]
  },
  {
   "cell_type": "markdown",
   "metadata": {
    "id": "BInYw_EmHID0"
   },
   "source": [
    "## kNN"
   ]
  },
  {
   "cell_type": "code",
   "execution_count": 112,
   "metadata": {
    "colab": {
     "base_uri": "https://localhost:8080/"
    },
    "id": "DQm779Y6HbZT",
    "outputId": "ec7eea88-f72d-4498-8c3f-8a8a5dc1fcbc"
   },
   "outputs": [
    {
     "data": {
      "text/plain": [
       "KNeighborsClassifier(n_neighbors=1, weights='distance')"
      ]
     },
     "execution_count": 112,
     "metadata": {},
     "output_type": "execute_result"
    }
   ],
   "source": [
    "knn10_clf = neighbors.KNeighborsClassifier(10, weights=\"distance\")\n",
    "knn10_clf.fit(x, y)\n",
    "\n",
    "knn5_clf = neighbors.KNeighborsClassifier(5, weights=\"distance\")\n",
    "knn5_clf.fit(x, y)\n",
    "\n",
    "knn50_clf = neighbors.KNeighborsClassifier(50, weights=\"distance\")\n",
    "knn50_clf.fit(x, y)\n",
    "\n",
    "knn1_clf = neighbors.KNeighborsClassifier(1, weights=\"distance\")\n",
    "knn1_clf.fit(x, y)"
   ]
  },
  {
   "cell_type": "markdown",
   "metadata": {
    "id": "esKCznRMGD6R"
   },
   "source": [
    "## SVM"
   ]
  },
  {
   "cell_type": "code",
   "execution_count": 113,
   "metadata": {
    "colab": {
     "base_uri": "https://localhost:8080/"
    },
    "id": "3FRlnG-LGFqo",
    "outputId": "d5703d30-7cb4-4285-f48f-7c6925a42ca8"
   },
   "outputs": [
    {
     "data": {
      "text/plain": [
       "SVC()"
      ]
     },
     "execution_count": 113,
     "metadata": {},
     "output_type": "execute_result"
    }
   ],
   "source": [
    "svm_clf = svm.SVC()\n",
    "svm_clf.fit(x, y)"
   ]
  },
  {
   "cell_type": "markdown",
   "metadata": {
    "id": "oKegTZDnJx1C"
   },
   "source": [
    "## Bayes"
   ]
  },
  {
   "cell_type": "code",
   "execution_count": 114,
   "metadata": {
    "colab": {
     "base_uri": "https://localhost:8080/"
    },
    "id": "5wggWg2VJ0Mu",
    "outputId": "fffee1c2-bce8-410b-aa82-901acd688f21"
   },
   "outputs": [
    {
     "data": {
      "text/plain": [
       "GaussianNB()"
      ]
     },
     "execution_count": 114,
     "metadata": {},
     "output_type": "execute_result"
    }
   ],
   "source": [
    "b_clf = GaussianNB()\n",
    "b_clf.fit(x, y)"
   ]
  },
  {
   "cell_type": "markdown",
   "metadata": {
    "id": "cxwx5Lz_KH2U"
   },
   "source": [
    "## Random Forest"
   ]
  },
  {
   "cell_type": "code",
   "execution_count": 115,
   "metadata": {
    "colab": {
     "base_uri": "https://localhost:8080/"
    },
    "id": "P-VHbccnKN90",
    "outputId": "cf0c1147-d8f1-4796-9f22-7c42a4b9457a"
   },
   "outputs": [
    {
     "data": {
      "text/plain": [
       "RandomForestClassifier(n_estimators=1000)"
      ]
     },
     "execution_count": 115,
     "metadata": {},
     "output_type": "execute_result"
    }
   ],
   "source": [
    "rf_clf = RandomForestClassifier(100)\n",
    "rf_clf.fit(x, y)\n",
    "\n",
    "rf20_clf = RandomForestClassifier(20)\n",
    "rf20_clf.fit(x, y)\n",
    "\n",
    "rf250_clf = RandomForestClassifier(250)\n",
    "rf250_clf.fit(x, y)\n",
    "\n",
    "rf1000_clf = RandomForestClassifier(1000)\n",
    "rf1000_clf.fit(x, y)"
   ]
  },
  {
   "cell_type": "markdown",
   "metadata": {
    "id": "9dzsHGTe6nL2"
   },
   "source": [
    "# Evaluation"
   ]
  },
  {
   "cell_type": "code",
   "execution_count": 116,
   "metadata": {
    "id": "2wohPVed6tFV"
   },
   "outputs": [],
   "source": [
    "def CA(model, x, y):\n",
    "  yh = model(x)\n",
    "  yh = np.round(yh).reshape(-1)\n",
    "  y = y.reshape(-1)\n",
    "\n",
    "  correct = yh == y\n",
    "  n_correct = np.sum(correct)\n",
    "  all = correct.shape[0]\n",
    "  return n_correct/all\n",
    "\n",
    "\n",
    "def F1(model, x, y):\n",
    "  yh = model(x)\n",
    "  yh = np.round(yh).reshape(-1)\n",
    "  y = y.reshape(-1)\n",
    "\n",
    "  tp = np.sum(y * yh)\n",
    "  fp = np.sum((1-y) * yh)\n",
    "  fn = np.sum((1-yh) * y)\n",
    "\n",
    "  precision = np.sum(yh*y) / np.sum(yh)\n",
    "  recall = np.sum(yh*y) / np.sum(y)\n",
    "  #return tp / (tp + (fp + fn)/2)\n",
    "  return 2 / (precision**(-1) + recall**(-1))"
   ]
  },
  {
   "cell_type": "code",
   "execution_count": 117,
   "metadata": {
    "id": "bDW7EEC-_Io8"
   },
   "outputs": [],
   "source": [
    "_, y_test, dtm_test = load_to_dtm('test_data.tsv')"
   ]
  },
  {
   "cell_type": "code",
   "execution_count": 118,
   "metadata": {
    "id": "LzwEiegN_WN5"
   },
   "outputs": [],
   "source": [
    "for word in most_common:\n",
    "  if word not in dtm_test:\n",
    "    dtm_test[word] = 0\n",
    "    \n",
    "x_test = dtm_test[most_common]"
   ]
  },
  {
   "cell_type": "markdown",
   "metadata": {
    "id": "M3RCUItbBdH3"
   },
   "source": [
    "## Majority classifier"
   ]
  },
  {
   "cell_type": "code",
   "execution_count": 119,
   "metadata": {
    "colab": {
     "base_uri": "https://localhost:8080/"
    },
    "id": "SWgQspmgAb8t",
    "outputId": "434ced9b-91f0-4812-cdff-616350e35838"
   },
   "outputs": [
    {
     "name": "stdout",
     "output_type": "stream",
     "text": [
      "CA = 0.523\n"
     ]
    }
   ],
   "source": [
    "CA_majority = CA(default_classifier, x_test, y_test)\n",
    "print(\"CA = {:.3}\".format(CA_majority))"
   ]
  },
  {
   "cell_type": "code",
   "execution_count": 120,
   "metadata": {
    "colab": {
     "base_uri": "https://localhost:8080/"
    },
    "id": "z2f1vpjUBGGl",
    "outputId": "978b7948-0aa2-4c08-ba53-3a5ecda8009f"
   },
   "outputs": [
    {
     "name": "stdout",
     "output_type": "stream",
     "text": [
      "F1 = 0.687\n"
     ]
    }
   ],
   "source": [
    "F1_majority = F1(default_classifier, x_test, y_test)\n",
    "print(\"F1 = {:.3}\".format(F1_majority))"
   ]
  },
  {
   "cell_type": "markdown",
   "metadata": {
    "id": "MBfS5tn6Ihmx"
   },
   "source": [
    "## kNN"
   ]
  },
  {
   "cell_type": "code",
   "execution_count": 121,
   "metadata": {
    "colab": {
     "base_uri": "https://localhost:8080/"
    },
    "id": "gv0jqTn8ECXE",
    "outputId": "f0e59109-6338-42e2-835b-976aa4625a29"
   },
   "outputs": [
    {
     "name": "stdout",
     "output_type": "stream",
     "text": [
      "CA = 0.754\n",
      "F1 = 0.699\n"
     ]
    }
   ],
   "source": [
    "CA_knn5 = CA(knn5_clf.predict, x_test, y_test)\n",
    "print(\"CA = {:.3}\".format(CA_knn5))\n",
    "F1_knn5 = F1(knn5_clf.predict, x_test, y_test)\n",
    "print(\"F1 = {:.3}\".format(F1_knn5))"
   ]
  },
  {
   "cell_type": "code",
   "execution_count": 122,
   "metadata": {
    "colab": {
     "base_uri": "https://localhost:8080/"
    },
    "id": "_82P9C-bIqK2",
    "outputId": "9ee3acf9-9ba4-4b73-908c-2062bb5b1b0c"
   },
   "outputs": [
    {
     "name": "stdout",
     "output_type": "stream",
     "text": [
      "CA = 0.728\n",
      "F1 = 0.652\n"
     ]
    }
   ],
   "source": [
    "CA_knn10 = CA(knn10_clf.predict, x_test, y_test)\n",
    "print(\"CA = {:.3}\".format(CA_knn10))\n",
    "F1_knn10 = F1(knn10_clf.predict, x_test, y_test)\n",
    "print(\"F1 = {:.3}\".format(F1_knn10))"
   ]
  },
  {
   "cell_type": "code",
   "execution_count": 123,
   "metadata": {
    "colab": {
     "base_uri": "https://localhost:8080/"
    },
    "id": "XzsM3f_8JQd0",
    "outputId": "7393779c-0f9c-4342-9360-0275e19fa37e"
   },
   "outputs": [
    {
     "name": "stdout",
     "output_type": "stream",
     "text": [
      "CA = 0.664\n",
      "F1 = 0.53\n"
     ]
    }
   ],
   "source": [
    "CA_knn50 = CA(knn50_clf.predict, x_test, y_test)\n",
    "print(\"CA = {:.3}\".format(CA_knn50))\n",
    "F1_knn50 = F1(knn50_clf.predict, x_test, y_test)\n",
    "print(\"F1 = {:.3}\".format(F1_knn50))"
   ]
  },
  {
   "cell_type": "code",
   "execution_count": 124,
   "metadata": {
    "colab": {
     "base_uri": "https://localhost:8080/"
    },
    "id": "M8l4kRqFJVNG",
    "outputId": "f6251431-e0ec-4030-bb77-d49e4279f402"
   },
   "outputs": [
    {
     "name": "stdout",
     "output_type": "stream",
     "text": [
      "CA = 0.775\n",
      "F1 = 0.746\n"
     ]
    }
   ],
   "source": [
    "CA_knn1 = CA(knn1_clf.predict, x_test, y_test)\n",
    "print(\"CA = {:.3}\".format(CA_knn1))\n",
    "F1_knn1 = F1(knn1_clf.predict, x_test, y_test)\n",
    "print(\"F1 = {:.3}\".format(F1_knn1))"
   ]
  },
  {
   "cell_type": "markdown",
   "metadata": {
    "id": "HqNaV0AwGusz"
   },
   "source": [
    "## SVM"
   ]
  },
  {
   "cell_type": "code",
   "execution_count": 125,
   "metadata": {
    "colab": {
     "base_uri": "https://localhost:8080/"
    },
    "id": "ifkEtMiKGt8w",
    "outputId": "3cf1e29c-73ef-4246-f655-25d98dd09158"
   },
   "outputs": [
    {
     "name": "stdout",
     "output_type": "stream",
     "text": [
      "CA = 0.914\n",
      "F1 = 0.916\n"
     ]
    }
   ],
   "source": [
    "CA_svm = CA(svm_clf.predict, x_test, y_test)\n",
    "print(\"CA = {:.3}\".format(CA_svm))\n",
    "F1_svm = F1(svm_clf.predict, x_test, y_test)\n",
    "print(\"F1 = {:.3}\".format(F1_svm))"
   ]
  },
  {
   "cell_type": "markdown",
   "metadata": {
    "id": "yoq2dZn5J-qL"
   },
   "source": [
    "## Bayes"
   ]
  },
  {
   "cell_type": "code",
   "execution_count": 126,
   "metadata": {
    "colab": {
     "base_uri": "https://localhost:8080/"
    },
    "id": "3eUQDvJuJgHV",
    "outputId": "8f89739f-3b0d-42bb-8165-43d66dfcf939"
   },
   "outputs": [
    {
     "name": "stdout",
     "output_type": "stream",
     "text": [
      "CA = 0.858\n",
      "F1 = 0.85\n"
     ]
    }
   ],
   "source": [
    "CA_b = CA(b_clf.predict, x_test, y_test)\n",
    "print(\"CA = {:.3}\".format(CA_b))\n",
    "F1_b = F1(b_clf.predict, x_test, y_test)\n",
    "print(\"F1 = {:.3}\".format(F1_b))"
   ]
  },
  {
   "cell_type": "markdown",
   "metadata": {
    "id": "UMQH9k0CKg6a"
   },
   "source": [
    "## Random Forest"
   ]
  },
  {
   "cell_type": "code",
   "execution_count": 127,
   "metadata": {
    "colab": {
     "base_uri": "https://localhost:8080/"
    },
    "id": "s_8ecabfKlBg",
    "outputId": "044317d0-2688-4ead-e589-9d794e3c5d28"
   },
   "outputs": [
    {
     "name": "stdout",
     "output_type": "stream",
     "text": [
      "CA = 0.886\n",
      "F1 = 0.891\n"
     ]
    }
   ],
   "source": [
    "CA_rf20 = CA(rf20_clf.predict, x_test, y_test)\n",
    "print(\"CA = {:.3}\".format(CA_rf20))\n",
    "F1_rf20 = F1(rf20_clf.predict, x_test, y_test)\n",
    "print(\"F1 = {:.3}\".format(F1_rf20))"
   ]
  },
  {
   "cell_type": "code",
   "execution_count": 128,
   "metadata": {
    "colab": {
     "base_uri": "https://localhost:8080/"
    },
    "id": "tcyG-AagKCSI",
    "outputId": "c686ee2f-4f62-47c8-d394-e5171090698f"
   },
   "outputs": [
    {
     "name": "stdout",
     "output_type": "stream",
     "text": [
      "CA = 0.905\n",
      "F1 = 0.908\n"
     ]
    }
   ],
   "source": [
    "CA_rf = CA(rf_clf.predict, x_test, y_test)\n",
    "print(\"CA = {:.3}\".format(CA_rf))\n",
    "F1_rf = F1(rf_clf.predict, x_test, y_test)\n",
    "print(\"F1 = {:.3}\".format(F1_rf))"
   ]
  },
  {
   "cell_type": "code",
   "execution_count": 129,
   "metadata": {
    "colab": {
     "base_uri": "https://localhost:8080/"
    },
    "id": "UGNkckTqK7AF",
    "outputId": "8e9c6631-41f1-46d6-ad78-a1117d943797"
   },
   "outputs": [
    {
     "name": "stdout",
     "output_type": "stream",
     "text": [
      "CA = 0.905\n",
      "F1 = 0.909\n"
     ]
    }
   ],
   "source": [
    "CA_rf250 = CA(rf250_clf.predict, x_test, y_test)\n",
    "print(\"CA = {:.3}\".format(CA_rf250))\n",
    "F1_rf250 = F1(rf250_clf.predict, x_test, y_test)\n",
    "print(\"F1 = {:.3}\".format(F1_rf250))"
   ]
  },
  {
   "cell_type": "code",
   "execution_count": 130,
   "metadata": {
    "colab": {
     "base_uri": "https://localhost:8080/"
    },
    "id": "Fqf1FuUCNKQb",
    "outputId": "c56d328c-32a7-4e70-d623-fb00dd47239e"
   },
   "outputs": [
    {
     "name": "stdout",
     "output_type": "stream",
     "text": [
      "CA = 0.906\n",
      "F1 = 0.91\n"
     ]
    }
   ],
   "source": [
    "CA_rf1000 = CA(rf1000_clf.predict, x_test, y_test)\n",
    "print(\"CA = {:.3}\".format(CA_rf1000))\n",
    "F1_rf1000 = F1(rf1000_clf.predict, x_test, y_test)\n",
    "print(\"F1 = {:.3}\".format(F1_rf1000))"
   ]
  },
  {
   "cell_type": "markdown",
   "metadata": {
    "id": "0DWmB8E3LbZu"
   },
   "source": [
    "## Visualization"
   ]
  },
  {
   "cell_type": "code",
   "execution_count": 131,
   "metadata": {
    "id": "oeMNiOb4K98q"
   },
   "outputs": [],
   "source": [
    "CAs = [CA_majority, CA_knn1, CA_knn5, CA_knn10, CA_knn50, CA_svm, CA_b, CA_rf20, CA_rf, CA_rf250, CA_rf1000]\n",
    "F1s = [F1_majority, F1_knn1, F1_knn5, F1_knn10, F1_knn50, F1_svm, F1_b, F1_rf20, F1_rf, F1_rf250, F1_rf1000]\n",
    "model_names = [\"Majority\", \"kNN, k=1\", \"kNN, k=5\", \"kNN, k=10\", \"kNN, k=50\", \"SVM\", \"Bayes\", \"R.F., 20 trees\", \"R.F., 100 trees\", \"R.F., 250 trees\", \"R.F., 1000 trees\"]"
   ]
  },
  {
   "cell_type": "code",
   "execution_count": 132,
   "metadata": {
    "id": "qxjGY3OBMVti"
   },
   "outputs": [],
   "source": [
    "results = pd.DataFrame({\"model\": model_names, \"CA\": CAs, \"F1\": F1s}).sort_values(\"CA\")"
   ]
  },
  {
   "cell_type": "code",
   "execution_count": 133,
   "metadata": {
    "colab": {
     "base_uri": "https://localhost:8080/",
     "height": 394
    },
    "id": "bkYYsHmqMp9p",
    "outputId": "a8d1a50d-111e-479f-aac1-98333d26d111"
   },
   "outputs": [
    {
     "data": {
      "text/html": [
       "\n",
       "  <div id=\"df-2880f456-28dd-4032-a9c2-f807892808f6\">\n",
       "    <div class=\"colab-df-container\">\n",
       "      <div>\n",
       "<style scoped>\n",
       "    .dataframe tbody tr th:only-of-type {\n",
       "        vertical-align: middle;\n",
       "    }\n",
       "\n",
       "    .dataframe tbody tr th {\n",
       "        vertical-align: top;\n",
       "    }\n",
       "\n",
       "    .dataframe thead th {\n",
       "        text-align: right;\n",
       "    }\n",
       "</style>\n",
       "<table border=\"1\" class=\"dataframe\">\n",
       "  <thead>\n",
       "    <tr style=\"text-align: right;\">\n",
       "      <th></th>\n",
       "      <th>model</th>\n",
       "      <th>CA</th>\n",
       "      <th>F1</th>\n",
       "    </tr>\n",
       "  </thead>\n",
       "  <tbody>\n",
       "    <tr>\n",
       "      <th>0</th>\n",
       "      <td>Majority</td>\n",
       "      <td>0.523364</td>\n",
       "      <td>0.687117</td>\n",
       "    </tr>\n",
       "    <tr>\n",
       "      <th>4</th>\n",
       "      <td>kNN, k=50</td>\n",
       "      <td>0.664486</td>\n",
       "      <td>0.530105</td>\n",
       "    </tr>\n",
       "    <tr>\n",
       "      <th>3</th>\n",
       "      <td>kNN, k=10</td>\n",
       "      <td>0.727570</td>\n",
       "      <td>0.652355</td>\n",
       "    </tr>\n",
       "    <tr>\n",
       "      <th>2</th>\n",
       "      <td>kNN, k=5</td>\n",
       "      <td>0.754206</td>\n",
       "      <td>0.699085</td>\n",
       "    </tr>\n",
       "    <tr>\n",
       "      <th>1</th>\n",
       "      <td>kNN, k=1</td>\n",
       "      <td>0.775234</td>\n",
       "      <td>0.745637</td>\n",
       "    </tr>\n",
       "    <tr>\n",
       "      <th>6</th>\n",
       "      <td>Bayes</td>\n",
       "      <td>0.858411</td>\n",
       "      <td>0.850222</td>\n",
       "    </tr>\n",
       "    <tr>\n",
       "      <th>7</th>\n",
       "      <td>R.F., 20 trees</td>\n",
       "      <td>0.886449</td>\n",
       "      <td>0.890590</td>\n",
       "    </tr>\n",
       "    <tr>\n",
       "      <th>8</th>\n",
       "      <td>R.F., 100 trees</td>\n",
       "      <td>0.904673</td>\n",
       "      <td>0.908273</td>\n",
       "    </tr>\n",
       "    <tr>\n",
       "      <th>9</th>\n",
       "      <td>R.F., 250 trees</td>\n",
       "      <td>0.905140</td>\n",
       "      <td>0.908846</td>\n",
       "    </tr>\n",
       "    <tr>\n",
       "      <th>10</th>\n",
       "      <td>R.F., 1000 trees</td>\n",
       "      <td>0.906075</td>\n",
       "      <td>0.909987</td>\n",
       "    </tr>\n",
       "    <tr>\n",
       "      <th>5</th>\n",
       "      <td>SVM</td>\n",
       "      <td>0.914019</td>\n",
       "      <td>0.915596</td>\n",
       "    </tr>\n",
       "  </tbody>\n",
       "</table>\n",
       "</div>\n",
       "      <button class=\"colab-df-convert\" onclick=\"convertToInteractive('df-2880f456-28dd-4032-a9c2-f807892808f6')\"\n",
       "              title=\"Convert this dataframe to an interactive table.\"\n",
       "              style=\"display:none;\">\n",
       "        \n",
       "  <svg xmlns=\"http://www.w3.org/2000/svg\" height=\"24px\"viewBox=\"0 0 24 24\"\n",
       "       width=\"24px\">\n",
       "    <path d=\"M0 0h24v24H0V0z\" fill=\"none\"/>\n",
       "    <path d=\"M18.56 5.44l.94 2.06.94-2.06 2.06-.94-2.06-.94-.94-2.06-.94 2.06-2.06.94zm-11 1L8.5 8.5l.94-2.06 2.06-.94-2.06-.94L8.5 2.5l-.94 2.06-2.06.94zm10 10l.94 2.06.94-2.06 2.06-.94-2.06-.94-.94-2.06-.94 2.06-2.06.94z\"/><path d=\"M17.41 7.96l-1.37-1.37c-.4-.4-.92-.59-1.43-.59-.52 0-1.04.2-1.43.59L10.3 9.45l-7.72 7.72c-.78.78-.78 2.05 0 2.83L4 21.41c.39.39.9.59 1.41.59.51 0 1.02-.2 1.41-.59l7.78-7.78 2.81-2.81c.8-.78.8-2.07 0-2.86zM5.41 20L4 18.59l7.72-7.72 1.47 1.35L5.41 20z\"/>\n",
       "  </svg>\n",
       "      </button>\n",
       "      \n",
       "  <style>\n",
       "    .colab-df-container {\n",
       "      display:flex;\n",
       "      flex-wrap:wrap;\n",
       "      gap: 12px;\n",
       "    }\n",
       "\n",
       "    .colab-df-convert {\n",
       "      background-color: #E8F0FE;\n",
       "      border: none;\n",
       "      border-radius: 50%;\n",
       "      cursor: pointer;\n",
       "      display: none;\n",
       "      fill: #1967D2;\n",
       "      height: 32px;\n",
       "      padding: 0 0 0 0;\n",
       "      width: 32px;\n",
       "    }\n",
       "\n",
       "    .colab-df-convert:hover {\n",
       "      background-color: #E2EBFA;\n",
       "      box-shadow: 0px 1px 2px rgba(60, 64, 67, 0.3), 0px 1px 3px 1px rgba(60, 64, 67, 0.15);\n",
       "      fill: #174EA6;\n",
       "    }\n",
       "\n",
       "    [theme=dark] .colab-df-convert {\n",
       "      background-color: #3B4455;\n",
       "      fill: #D2E3FC;\n",
       "    }\n",
       "\n",
       "    [theme=dark] .colab-df-convert:hover {\n",
       "      background-color: #434B5C;\n",
       "      box-shadow: 0px 1px 3px 1px rgba(0, 0, 0, 0.15);\n",
       "      filter: drop-shadow(0px 1px 2px rgba(0, 0, 0, 0.3));\n",
       "      fill: #FFFFFF;\n",
       "    }\n",
       "  </style>\n",
       "\n",
       "      <script>\n",
       "        const buttonEl =\n",
       "          document.querySelector('#df-2880f456-28dd-4032-a9c2-f807892808f6 button.colab-df-convert');\n",
       "        buttonEl.style.display =\n",
       "          google.colab.kernel.accessAllowed ? 'block' : 'none';\n",
       "\n",
       "        async function convertToInteractive(key) {\n",
       "          const element = document.querySelector('#df-2880f456-28dd-4032-a9c2-f807892808f6');\n",
       "          const dataTable =\n",
       "            await google.colab.kernel.invokeFunction('convertToInteractive',\n",
       "                                                     [key], {});\n",
       "          if (!dataTable) return;\n",
       "\n",
       "          const docLinkHtml = 'Like what you see? Visit the ' +\n",
       "            '<a target=\"_blank\" href=https://colab.research.google.com/notebooks/data_table.ipynb>data table notebook</a>'\n",
       "            + ' to learn more about interactive tables.';\n",
       "          element.innerHTML = '';\n",
       "          dataTable['output_type'] = 'display_data';\n",
       "          await google.colab.output.renderOutput(dataTable, element);\n",
       "          const docLink = document.createElement('div');\n",
       "          docLink.innerHTML = docLinkHtml;\n",
       "          element.appendChild(docLink);\n",
       "        }\n",
       "      </script>\n",
       "    </div>\n",
       "  </div>\n",
       "  "
      ],
      "text/plain": [
       "               model        CA        F1\n",
       "0           Majority  0.523364  0.687117\n",
       "4          kNN, k=50  0.664486  0.530105\n",
       "3          kNN, k=10  0.727570  0.652355\n",
       "2           kNN, k=5  0.754206  0.699085\n",
       "1           kNN, k=1  0.775234  0.745637\n",
       "6              Bayes  0.858411  0.850222\n",
       "7     R.F., 20 trees  0.886449  0.890590\n",
       "8    R.F., 100 trees  0.904673  0.908273\n",
       "9    R.F., 250 trees  0.905140  0.908846\n",
       "10  R.F., 1000 trees  0.906075  0.909987\n",
       "5                SVM  0.914019  0.915596"
      ]
     },
     "execution_count": 133,
     "metadata": {},
     "output_type": "execute_result"
    }
   ],
   "source": [
    "results"
   ]
  },
  {
   "cell_type": "code",
   "execution_count": 134,
   "metadata": {
    "colab": {
     "base_uri": "https://localhost:8080/",
     "height": 379
    },
    "id": "TggK3l6QMtJl",
    "outputId": "95add664-ec2b-4193-d83c-f1245b6b1841"
   },
   "outputs": [
    {
     "data": {
      "text/plain": [
       "Text(0.5, 1.0, 'Accuracy')"
      ]
     },
     "execution_count": 134,
     "metadata": {},
     "output_type": "execute_result"
    },
    {
     "data": {
      "image/png": "[encoded data removed]",
      "text/plain": [
       "<Figure size 432x288 with 1 Axes>"
      ]
     },
     "metadata": {
      "needs_background": "light"
     },
     "output_type": "display_data"
    }
   ],
   "source": [
    "results.plot.bar(\"model\", \"CA\")\n",
    "plt.ylabel(\"CA\")\n",
    "plt.title(\"Accuracy\")"
   ]
  },
  {
   "cell_type": "code",
   "execution_count": 135,
   "metadata": {
    "colab": {
     "base_uri": "https://localhost:8080/",
     "height": 379
    },
    "id": "fTE9g-BBN-Rb",
    "outputId": "412d4be3-9d6b-4dfc-d309-3ceef161c293"
   },
   "outputs": [
    {
     "data": {
      "text/plain": [
       "Text(0.5, 1.0, 'F1')"
      ]
     },
     "execution_count": 135,
     "metadata": {},
     "output_type": "execute_result"
    },
    {
     "data": {
      "image/png": "[encoded data removed]",
      "text/plain": [
       "<Figure size 432x288 with 1 Axes>"
      ]
     },
     "metadata": {
      "needs_background": "light"
     },
     "output_type": "display_data"
    }
   ],
   "source": [
    "results.plot.bar(\"model\", \"F1\")\n",
    "plt.ylabel(\"F1\")\n",
    "plt.title(\"F1\")"
   ]
  },
  {
   "cell_type": "markdown",
   "metadata": {
    "id": "tJEAvSuTOhYG"
   },
   "source": [
    "SVM was the best of traditional classifiers, followed by Random Forests, then Bayesian Classifier and then kNN. The majority classifier had worse CA then all other classifiers, but better F1 than the poorest two kNNs.\n",
    "\n",
    "Looking at RFs with different number of trees, the ones with the more trees had both better CA and F1, probably due to them being more flexible and so being able to fit the data better. \n",
    "\n",
    "In k-Nearest Neighbors, the smaller the k the better the results (both CA and F1), again due to them being able to fit the data better. \n",
    "\n",
    "(too flexible models in general could lead to overfitting and consequently poorer results, but this was not observable using our models on this dataset)"
   ]
  },
  {
   "cell_type": "markdown",
   "metadata": {
    "id": "bAOr2C8SQLOP"
   },
   "source": [
    "Our best-performing traditional model, SVM, had both better accuracy and F1 than half of the baseline models."
   ]
  },
  {
   "cell_type": "markdown",
   "metadata": {
    "id": "7rn32U4gU5rY"
   },
   "source": [
    "# BERT"
   ]
  },
  {
   "cell_type": "code",
   "execution_count": null,
   "metadata": {
    "colab": {
     "base_uri": "https://localhost:8080/"
    },
    "id": "ZRgtoZW6PrGD",
    "outputId": "725ed142-40e4-45ea-e03c-e1688b0585ef",
    "scrolled": true
   },
   "outputs": [],
   "source": [
    "!pip install transformers\n",
    "from transformers import BertTokenizer, BertModel, RobertaTokenizer, RobertaModel\n",
    "from tqdm import tqdm"
   ]
  },
  {
   "cell_type": "code",
   "execution_count": 30,
   "metadata": {
    "id": "1ESeKg2Ne_Ie"
   },
   "outputs": [],
   "source": [
    "device = 'cuda' if torch.cuda.is_available() else 'cpu'"
   ]
  },
  {
   "cell_type": "code",
   "execution_count": 185,
   "metadata": {
    "colab": {
     "base_uri": "https://localhost:8080/",
     "height": 81,
     "referenced_widgets": [
      "36d60b85254d4b32a1bcfd9267dc8791",
      "f0ee872ac4da4fc28aeaa0f9b266b848",
      "cb0ed9d95a094a97a36b97a27f599932",
      "2b76e1ba43f747bf9c927d8df01dcde0",
      "c3d9f3eebb8c46c4b39cff76fd3184e5",
      "2f102eac8a5a4cf4ba066389af23ab18",
      "6101d0c950c44f29a766842a0f291c88",
      "fe8a28a2b96547a2839f6d565df9f8bb",
      "5092ca0763684d5ea964e0cda3194136",
      "17bf2ca4f9d7427887813063cf191e5c",
      "01c3a7736c564eae856edf28488d71e1",
      "378a74deb55c49b7aba9b9697aa530a8",
      "a10b131973c34cf696a83f10da939adf",
      "7a5be218901140139c14009b02b0a466",
      "b34e856e382544e8bee9cf2c15f35a58",
      "17664b714246499c84b5265d8817322b",
      "01834492e5bd4ca68bfa319b9da92df7",
      "4e73be22b54c4183b9be24d725435114",
      "c2071e9242d04007b06910856aa74aec",
      "a10a494f7ea54c26ae3649f9a37cae03",
      "28d7d11771a34be5aa0f1b98f499223d",
      "5c37a22326a24579b1d54d59ca686fc5"
     ]
    },
    "id": "GcR-F8zsWQxm",
    "outputId": "1e27d7b8-84b6-4c1f-f662-419d9af99a46",
    "scrolled": false
   },
   "outputs": [
    {
     "data": {
      "application/vnd.jupyter.widget-view+json": {
       "model_id": "36d60b85254d4b32a1bcfd9267dc8791",
       "version_major": 2,
       "version_minor": 0
      },
      "text/plain": [
       "Downloading:   0%|          | 0.00/878k [00:00<?, ?B/s]"
      ]
     },
     "metadata": {},
     "output_type": "display_data"
    },
    {
     "data": {
      "application/vnd.jupyter.widget-view+json": {
       "model_id": "378a74deb55c49b7aba9b9697aa530a8",
       "version_major": 2,
       "version_minor": 0
      },
      "text/plain": [
       "Downloading:   0%|          | 0.00/446k [00:00<?, ?B/s]"
      ]
     },
     "metadata": {},
     "output_type": "display_data"
    }
   ],
   "source": [
    "tokenizer = BertTokenizer.from_pretrained('bert-base-cased')\n",
    "tokenizer2 = BertTokenizer.from_pretrained('bert-base-uncased')\n",
    "tokenizer3 = RobertaTokenizer.from_pretrained('roberta-large')\n",
    "def preprocess_nn(df):\n",
    "  df = df.replace(r'http\\S+', '', regex=True)\n",
    "  df = df.replace(r'[^A-Za-z0-9?!.,-:;]+', ' ', regex=True)  \n",
    "  df = df.replace(r'\\s\\s+', ' ', regex=True)\n",
    "  tokenized = [tokenizer(text, padding='max_length', max_length=512, truncation=True, return_tensors='pt') for text in df]\n",
    "\n",
    "  input_ids = [e['input_ids'].reshape(-1) for e in tokenized]\n",
    "  attention_mask = [e['attention_mask'].reshape(-1) for e in tokenized]\n",
    "\n",
    "  input_ids = torch.stack(input_ids).to(device)\n",
    "  attention_mask = torch.stack(attention_mask).to(device)\n",
    "\n",
    "  return input_ids, attention_mask\n",
    "\n",
    "def preprocess_nn2(df):\n",
    "  tokenized = [tokenizer2(text, padding='max_length', max_length=512, truncation=True, return_tensors='pt') for text in df]\n",
    "\n",
    "  input_ids = [e['input_ids'].reshape(-1) for e in tokenized]\n",
    "  attention_mask = [e['attention_mask'].reshape(-1) for e in tokenized]\n",
    "\n",
    "  input_ids = torch.stack(input_ids).to(device)\n",
    "  attention_mask = torch.stack(attention_mask).to(device)\n",
    "\n",
    "  return input_ids, attention_mask\n",
    "\n",
    "def preprocess_nn3(df):\n",
    "  tokenized = [tokenizer3(text, padding='max_length', max_length=512, truncation=True, return_tensors='pt') for text in df]\n",
    "\n",
    "  input_ids = [e['input_ids'].reshape(-1) for e in tokenized]\n",
    "  attention_mask = [e['attention_mask'].reshape(-1) for e in tokenized]\n",
    "\n",
    "  input_ids = torch.stack(input_ids).to(device)\n",
    "  attention_mask = torch.stack(attention_mask).to(device)\n",
    "\n",
    "  return input_ids, attention_mask"
   ]
  },
  {
   "cell_type": "code",
   "execution_count": 32,
   "metadata": {
    "id": "O7HmNjSUYgAx"
   },
   "outputs": [],
   "source": [
    "input_ids, attention_mask = preprocess_nn(df['text_a'])"
   ]
  },
  {
   "cell_type": "code",
   "execution_count": 190,
   "metadata": {
    "id": "Nr76xf7Jb_n2"
   },
   "outputs": [],
   "source": [
    "def run_bert(input_ids, attention_mask):\n",
    "  bert = BertModel.from_pretrained('bert-base-cased')\n",
    "  bert.to(device)\n",
    "  outputs = torch.zeros((input_ids.size()[0], 768))\n",
    "  batch = 10\n",
    "  print(\"starting\")\n",
    "  for i in tqdm(range(0, input_ids.size()[0], batch)):\n",
    "    _, output = bert(input_ids=input_ids[i:i+batch], attention_mask=attention_mask[i:i+batch], return_dict=False)\n",
    "    outputs[i:i+batch] = output\n",
    "  return outputs\n",
    "\n",
    "def run_bert2(input_ids, attention_mask):\n",
    "  bert = BertModel.from_pretrained('bert-base-uncased')\n",
    "  bert.to(device)\n",
    "  outputs = torch.zeros((input_ids.size()[0], 768))\n",
    "  batch = 10\n",
    "  print(\"starting\")\n",
    "  for i in tqdm(range(0, input_ids.size()[0], batch)):\n",
    "    _, output = bert(input_ids=input_ids[i:i+batch], attention_mask=attention_mask[i:i+batch], return_dict=False)\n",
    "    outputs[i:i+batch] = output\n",
    "  return outputs\n",
    "\n",
    "def run_roberta(input_ids, attention_mask):\n",
    "  bert = RobertaModel.from_pretrained('roberta-large')\n",
    "  bert.to(device)\n",
    "  outputs = torch.zeros((input_ids.size()[0], 1024))\n",
    "  batch = 10\n",
    "  print(\"starting\")\n",
    "  for i in tqdm(range(0, input_ids.size()[0], batch)):\n",
    "    _, output = bert(input_ids=input_ids[i:i+batch], attention_mask=attention_mask[i:i+batch], return_dict=False)\n",
    "    outputs[i:i+batch] = output\n",
    "  return outputs\n"
   ]
  },
  {
   "cell_type": "code",
   "execution_count": null,
   "metadata": {
    "colab": {
     "base_uri": "https://localhost:8080/",
     "height": 440,
     "referenced_widgets": [
      "bf4de76529ec4a6fb75d0bebe941daa6",
      "7536ee17130e40859a9269c80379fd21",
      "bf2cb61b440e4c2fadb8f87845997596",
      "0e79d7960e4749309f5fa5cfc810b21d",
      "b6ecb75d687c448eae99a14c1fbbec71",
      "581e03ffd0d34f4295194b76eff6304c",
      "47e64c30613f4126bb92de6a0bd246b4",
      "2971b3590af542399376032debc2c700",
      "b55e28c435a844e1a63176dc820e10d3",
      "b6fc4b32e9114dc1b906043c760362f7",
      "bc5011b7f36345488bf7bee5b539eeaa",
      "1586102090ad429babe8d370442ed0fb",
      "cf4e2eb10cb94d6b942c572cb5231580",
      "0622c03fa9684143a2a6090e3b70462b",
      "485f55d75d9541e6bd019579058c7f1e",
      "88e6290a89954f7bbbba19923c80bfa6",
      "7f319dff17fe4ca389db36c1094fb965",
      "bbc379f2cd2d40908b3424839bdbfa03",
      "c0e38fba0b134a9f937094057bc233d5",
      "290c969db2bc4dfebfee7ad554f3555b",
      "4f875b75c4264e3c82c77cf25256b373",
      "f2eee7f474e747fdad77fb862461ff9c"
     ]
    },
    "id": "cDJUiEDecx7X",
    "outputId": "b81e99bd-ada5-4176-cbb5-b48fd10bbe6e"
   },
   "outputs": [],
   "source": [
    "with torch.no_grad(): output = run_bert(input_ids, attention_mask)"
   ]
  },
  {
   "cell_type": "code",
   "execution_count": 159,
   "metadata": {
    "id": "IIyqx6TgigS2"
   },
   "outputs": [],
   "source": [
    "x = output.numpy()"
   ]
  },
  {
   "cell_type": "code",
   "execution_count": 137,
   "metadata": {
    "id": "SXa_rne7jar0"
   },
   "outputs": [],
   "source": [
    "y = y"
   ]
  },
  {
   "cell_type": "code",
   "execution_count": 164,
   "metadata": {
    "id": "cgb3Hil5sskq"
   },
   "outputs": [],
   "source": [
    "input_ids2, attention_mask2 = preprocess_nn2(df['text_a'])"
   ]
  },
  {
   "cell_type": "code",
   "execution_count": null,
   "metadata": {
    "colab": {
     "base_uri": "https://localhost:8080/"
    },
    "id": "fLfzSTYps1dO",
    "outputId": "499575a7-3706-40d7-a815-92dec09572d5"
   },
   "outputs": [],
   "source": [
    "with torch.no_grad(): output2 = run_bert2(input_ids2, attention_mask2)"
   ]
  },
  {
   "cell_type": "code",
   "execution_count": 166,
   "metadata": {
    "id": "Gmuogefrs4L2"
   },
   "outputs": [],
   "source": [
    "x2 = output2.numpy()"
   ]
  },
  {
   "cell_type": "code",
   "execution_count": 188,
   "metadata": {
    "id": "Kksax7U-0ud1"
   },
   "outputs": [],
   "source": [
    "input_ids3, attention_mask3 = preprocess_nn3(df['text_a'])"
   ]
  },
  {
   "cell_type": "code",
   "execution_count": null,
   "metadata": {
    "colab": {
     "base_uri": "https://localhost:8080/"
    },
    "id": "K_R6t8xg0zBS",
    "outputId": "1bcc71ac-f89f-4ad9-d544-33b6c77c3a35"
   },
   "outputs": [],
   "source": [
    "with torch.no_grad(): output3 = run_roberta(input_ids3, attention_mask3)"
   ]
  },
  {
   "cell_type": "code",
   "execution_count": 194,
   "metadata": {
    "id": "U_cjpcNm087S"
   },
   "outputs": [],
   "source": [
    "x3 = output3.numpy()"
   ]
  },
  {
   "cell_type": "markdown",
   "metadata": {
    "id": "YRBmHR2MmY14"
   },
   "source": [
    "### Classifier on top of BERT"
   ]
  },
  {
   "cell_type": "code",
   "execution_count": 86,
   "metadata": {
    "colab": {
     "base_uri": "https://localhost:8080/"
    },
    "id": "gcaVGi2FmMBM",
    "outputId": "cece31c3-2be1-4399-c175-821ff2cd07f3"
   },
   "outputs": [
    {
     "data": {
      "text/plain": [
       "SVC()"
      ]
     },
     "execution_count": 86,
     "metadata": {},
     "output_type": "execute_result"
    }
   ],
   "source": [
    "svm_bert = svm.SVC()\n",
    "svm_bert.fit(x, y)"
   ]
  },
  {
   "cell_type": "code",
   "execution_count": 146,
   "metadata": {
    "colab": {
     "base_uri": "https://localhost:8080/"
    },
    "id": "Uc1t2cntpvoH",
    "outputId": "f4534ace-9772-41e4-fda6-d344e7581809"
   },
   "outputs": [
    {
     "data": {
      "text/plain": [
       "LogisticRegression(max_iter=10000)"
      ]
     },
     "execution_count": 146,
     "metadata": {},
     "output_type": "execute_result"
    }
   ],
   "source": [
    "lr_bert = LogisticRegression(max_iter=10000)\n",
    "lr_bert.fit(x, y)"
   ]
  },
  {
   "cell_type": "code",
   "execution_count": null,
   "metadata": {
    "colab": {
     "base_uri": "https://localhost:8080/"
    },
    "id": "x0J2hlLGq4SA",
    "outputId": "92f4ca48-9b45-46aa-c9d5-c21eea6d81ca"
   },
   "outputs": [],
   "source": [
    "nn_bert = MLPClassifier(solver='lbfgs', alpha=1e-5, hidden_layer_sizes=[], random_state=1, max_iter=2000)\n",
    "nn_bert.fit(x,y)"
   ]
  },
  {
   "cell_type": "code",
   "execution_count": 167,
   "metadata": {
    "colab": {
     "base_uri": "https://localhost:8080/"
    },
    "id": "jX89YpU3wY1T",
    "outputId": "191f9de7-0346-4021-de25-72cb18a79bc2"
   },
   "outputs": [
    {
     "data": {
      "text/plain": [
       "SVC()"
      ]
     },
     "execution_count": 167,
     "metadata": {},
     "output_type": "execute_result"
    }
   ],
   "source": [
    "svm_bert2 = svm.SVC()\n",
    "svm_bert2.fit(x2, y)"
   ]
  },
  {
   "cell_type": "code",
   "execution_count": 173,
   "metadata": {
    "colab": {
     "base_uri": "https://localhost:8080/"
    },
    "id": "QSMzmtRvx4if",
    "outputId": "ef6b289d-cd86-47b8-b7db-0245181a6b65"
   },
   "outputs": [
    {
     "data": {
      "text/plain": [
       "LogisticRegression(max_iter=10000)"
      ]
     },
     "execution_count": 173,
     "metadata": {},
     "output_type": "execute_result"
    }
   ],
   "source": [
    "lr_bert2 = LogisticRegression(max_iter=10000)\n",
    "lr_bert2.fit(x2, y)"
   ]
  },
  {
   "cell_type": "code",
   "execution_count": null,
   "metadata": {
    "colab": {
     "base_uri": "https://localhost:8080/"
    },
    "id": "vEb6RwQfyFSE",
    "outputId": "48d38ff4-61c1-4cdc-88ab-4199a75f60aa"
   },
   "outputs": [],
   "source": [
    "nn_bert2 = MLPClassifier(solver='lbfgs', alpha=1e-5, hidden_layer_sizes=[], random_state=1, max_iter=800)\n",
    "nn_bert2.fit(x2,y)"
   ]
  },
  {
   "cell_type": "code",
   "execution_count": 198,
   "metadata": {
    "colab": {
     "base_uri": "https://localhost:8080/"
    },
    "id": "qblPuolF8gIC",
    "outputId": "0967ad5e-e5ff-4e4d-870e-283344ecb5ac"
   },
   "outputs": [
    {
     "data": {
      "text/plain": [
       "LogisticRegression(max_iter=20000)"
      ]
     },
     "execution_count": 198,
     "metadata": {},
     "output_type": "execute_result"
    }
   ],
   "source": [
    "lr_roberta = LogisticRegression(max_iter=20000)\n",
    "lr_roberta.fit(x3, y)"
   ]
  },
  {
   "cell_type": "markdown",
   "metadata": {
    "id": "1Sk8mDzfn5MZ"
   },
   "source": [
    "## Evaluation"
   ]
  },
  {
   "cell_type": "code",
   "execution_count": null,
   "metadata": {
    "colab": {
     "base_uri": "https://localhost:8080/"
    },
    "id": "Vumwgktjn7JR",
    "outputId": "ab183a43-3365-4435-bfa6-fde016f53c37"
   },
   "outputs": [],
   "source": [
    "df_test = pd.read_csv('test_data.tsv', sep='\\t')\n",
    "y_test = df_test['label'].to_numpy()\n",
    "input_ids_test, attention_mask_test = preprocess_nn(df_test['text_a'])\n",
    "with torch.no_grad(): output_test = run_bert(input_ids_test, attention_mask_test)\n",
    "x_test = output_test.numpy()"
   ]
  },
  {
   "cell_type": "code",
   "execution_count": 171,
   "metadata": {
    "colab": {
     "base_uri": "https://localhost:8080/"
    },
    "id": "l4KDHP4Omf4f",
    "outputId": "95442473-4bac-4713-c19d-bed4dcbfc6a2"
   },
   "outputs": [
    {
     "name": "stdout",
     "output_type": "stream",
     "text": [
      "CA = 0.854\n",
      "F1 = 0.863\n"
     ]
    }
   ],
   "source": [
    "CA_svm_bert = CA(svm_bert.predict, x_test, y_test)\n",
    "print(\"CA = {:.3}\".format(CA_svm_bert))\n",
    "F1_svm_bert = F1(svm_bert.predict, x_test, y_test)\n",
    "print(\"F1 = {:.3}\".format(F1_svm_bert))"
   ]
  },
  {
   "cell_type": "code",
   "execution_count": 147,
   "metadata": {
    "colab": {
     "base_uri": "https://localhost:8080/"
    },
    "id": "IG9n5pYXoXM-",
    "outputId": "f34ccee4-89e5-40c2-8786-d539b2a83bb6"
   },
   "outputs": [
    {
     "name": "stdout",
     "output_type": "stream",
     "text": [
      "CA = 0.902\n",
      "F1 = 0.907\n"
     ]
    }
   ],
   "source": [
    "CA_lr_bert = CA(lr_bert.predict, x_test, y_test)\n",
    "print(\"CA = {:.3}\".format(CA_lr_bert))\n",
    "F1_lr_bert = F1(lr_bert.predict, x_test, y_test)\n",
    "print(\"F1 = {:.3}\".format(F1_lr_bert))"
   ]
  },
  {
   "cell_type": "code",
   "execution_count": 179,
   "metadata": {
    "colab": {
     "base_uri": "https://localhost:8080/"
    },
    "id": "OgEcUsqkp6gV",
    "outputId": "07652caf-c809-472d-e49f-dd324f2f5cd5"
   },
   "outputs": [
    {
     "name": "stdout",
     "output_type": "stream",
     "text": [
      "CA = 0.899\n",
      "F1 = 0.905\n"
     ]
    }
   ],
   "source": [
    "CA_nn_bert = CA(nn_bert.predict, x_test, y_test)\n",
    "print(\"CA = {:.3}\".format(CA_nn_bert))\n",
    "F1_nn_bert = F1(nn_bert.predict, x_test, y_test)\n",
    "print(\"F1 = {:.3}\".format(F1_nn_bert))"
   ]
  },
  {
   "cell_type": "markdown",
   "metadata": {
    "id": "9_hH3XUGxx_q"
   },
   "source": [
    "### BERT uncased"
   ]
  },
  {
   "cell_type": "code",
   "execution_count": null,
   "metadata": {
    "colab": {
     "base_uri": "https://localhost:8080/"
    },
    "id": "qESk0xFWwqDK",
    "outputId": "c9efc7f5-495b-4db8-a759-213caa67a574"
   },
   "outputs": [],
   "source": [
    "input_ids_test2, attention_mask_test2 = preprocess_nn2(df_test['text_a'])\n",
    "with torch.no_grad(): output_test2 = run_bert2(input_ids_test2, attention_mask_test2)\n",
    "x_test2 = output_test2.numpy()"
   ]
  },
  {
   "cell_type": "code",
   "execution_count": 172,
   "metadata": {
    "colab": {
     "base_uri": "https://localhost:8080/"
    },
    "id": "NTDWgsXarSKP",
    "outputId": "c08aaa9d-a291-4e87-a770-7fed4bcea888"
   },
   "outputs": [
    {
     "name": "stdout",
     "output_type": "stream",
     "text": [
      "CA = 0.898\n",
      "F1 = 0.908\n"
     ]
    }
   ],
   "source": [
    "CA_svm_bert2 = CA(svm_bert2.predict, x_test2, y_test)\n",
    "print(\"CA = {:.3}\".format(CA_svm_bert2))\n",
    "F1_svm_bert2 = F1(svm_bert2.predict, x_test2, y_test)\n",
    "print(\"F1 = {:.3}\".format(F1_svm_bert2))"
   ]
  },
  {
   "cell_type": "code",
   "execution_count": 174,
   "metadata": {
    "colab": {
     "base_uri": "https://localhost:8080/"
    },
    "id": "oXVoiOi6wkIu",
    "outputId": "b4c41c72-5f42-4449-e88a-e8899ec7e899"
   },
   "outputs": [
    {
     "name": "stdout",
     "output_type": "stream",
     "text": [
      "CA = 0.933\n",
      "F1 = 0.937\n"
     ]
    }
   ],
   "source": [
    "CA_lr_bert2 = CA(lr_bert2.predict, x_test2, y_test)\n",
    "print(\"CA = {:.3}\".format(CA_lr_bert2))\n",
    "F1_lr_bert2 = F1(lr_bert2.predict, x_test2, y_test)\n",
    "print(\"F1 = {:.3}\".format(F1_lr_bert2))"
   ]
  },
  {
   "cell_type": "code",
   "execution_count": 180,
   "metadata": {
    "colab": {
     "base_uri": "https://localhost:8080/"
    },
    "id": "B0Uzm1TTyBxZ",
    "outputId": "3ba02a5e-e01e-47d2-de56-47b8fe60e006"
   },
   "outputs": [
    {
     "name": "stdout",
     "output_type": "stream",
     "text": [
      "CA = 0.929\n",
      "F1 = 0.932\n"
     ]
    }
   ],
   "source": [
    "CA_nn_bert2 = CA(nn_bert2.predict, x_test2, y_test)\n",
    "print(\"CA = {:.3}\".format(CA_nn_bert2))\n",
    "F1_nn_bert2 = F1(nn_bert2.predict, x_test2, y_test)\n",
    "print(\"F1 = {:.3}\".format(F1_nn_bert2))"
   ]
  },
  {
   "cell_type": "markdown",
   "metadata": {
    "id": "z0uTioEy1euE"
   },
   "source": [
    "### RoBERTa"
   ]
  },
  {
   "cell_type": "code",
   "execution_count": null,
   "metadata": {
    "colab": {
     "base_uri": "https://localhost:8080/"
    },
    "id": "tyA5psVVyUUd",
    "outputId": "f8d0002f-e72a-4af1-dc55-67bb4dc9685d"
   },
   "outputs": [],
   "source": [
    "input_ids_test3, attention_mask_test3 = preprocess_nn3(df_test['text_a'])\n",
    "with torch.no_grad(): output_test3 = run_roberta(input_ids_test3, attention_mask_test3)\n",
    "x_test3 = output_test3.numpy()"
   ]
  },
  {
   "cell_type": "code",
   "execution_count": 199,
   "metadata": {
    "colab": {
     "base_uri": "https://localhost:8080/"
    },
    "id": "ePgR4V4_1lyF",
    "outputId": "1423389c-d6ad-43ac-8388-4e4645a0f5f4"
   },
   "outputs": [
    {
     "name": "stdout",
     "output_type": "stream",
     "text": [
      "CA = 0.942\n",
      "F1 = 0.945\n"
     ]
    }
   ],
   "source": [
    "CA_lr_roberta = CA(lr_roberta.predict, x_test3, y_test)\n",
    "print(\"CA = {:.3}\".format(CA_lr_roberta))\n",
    "F1_lr_roberta = F1(lr_roberta.predict, x_test3, y_test)\n",
    "print(\"F1 = {:.3}\".format(F1_lr_roberta))"
   ]
  },
  {
   "cell_type": "markdown",
   "metadata": {
    "id": "uJO3eMkf9Ffr"
   },
   "source": [
    "Best classifier on top of BERT was logistic regression. "
   ]
  },
  {
   "cell_type": "code",
   "execution_count": 201,
   "metadata": {
    "id": "G8o9eK0M9K_c"
   },
   "outputs": [],
   "source": [
    "CAs = [CA_lr_bert, CA_lr_bert2, CA_lr_roberta]\n",
    "F1s = [F1_lr_bert, F1_lr_bert2, F1_lr_roberta]\n",
    "names = [\"BERT\", \"BERT uncased\", \"RoBERTa\"]\n",
    "\n",
    "results_nn = pd.DataFrame({\"model\": names, \"CA\": CAs, \"F1\": F1s}).sort_values(\"CA\")"
   ]
  },
  {
   "cell_type": "code",
   "execution_count": 202,
   "metadata": {
    "colab": {
     "base_uri": "https://localhost:8080/",
     "height": 143
    },
    "id": "LKj9bfzX9e2-",
    "outputId": "9ac4aaaf-059a-43db-9b18-8a6be6e15c56"
   },
   "outputs": [
    {
     "data": {
      "text/html": [
       "\n",
       "  <div id=\"df-90317dc0-f007-4a92-890d-0977f977f452\">\n",
       "    <div class=\"colab-df-container\">\n",
       "      <div>\n",
       "<style scoped>\n",
       "    .dataframe tbody tr th:only-of-type {\n",
       "        vertical-align: middle;\n",
       "    }\n",
       "\n",
       "    .dataframe tbody tr th {\n",
       "        vertical-align: top;\n",
       "    }\n",
       "\n",
       "    .dataframe thead th {\n",
       "        text-align: right;\n",
       "    }\n",
       "</style>\n",
       "<table border=\"1\" class=\"dataframe\">\n",
       "  <thead>\n",
       "    <tr style=\"text-align: right;\">\n",
       "      <th></th>\n",
       "      <th>model</th>\n",
       "      <th>CA</th>\n",
       "      <th>F1</th>\n",
       "    </tr>\n",
       "  </thead>\n",
       "  <tbody>\n",
       "    <tr>\n",
       "      <th>0</th>\n",
       "      <td>BERT</td>\n",
       "      <td>0.901869</td>\n",
       "      <td>0.906584</td>\n",
       "    </tr>\n",
       "    <tr>\n",
       "      <th>1</th>\n",
       "      <td>BERT uncased</td>\n",
       "      <td>0.932710</td>\n",
       "      <td>0.936787</td>\n",
       "    </tr>\n",
       "    <tr>\n",
       "      <th>2</th>\n",
       "      <td>RoBERTa</td>\n",
       "      <td>0.941589</td>\n",
       "      <td>0.944666</td>\n",
       "    </tr>\n",
       "  </tbody>\n",
       "</table>\n",
       "</div>\n",
       "      <button class=\"colab-df-convert\" onclick=\"convertToInteractive('df-90317dc0-f007-4a92-890d-0977f977f452')\"\n",
       "              title=\"Convert this dataframe to an interactive table.\"\n",
       "              style=\"display:none;\">\n",
       "        \n",
       "  <svg xmlns=\"http://www.w3.org/2000/svg\" height=\"24px\"viewBox=\"0 0 24 24\"\n",
       "       width=\"24px\">\n",
       "    <path d=\"M0 0h24v24H0V0z\" fill=\"none\"/>\n",
       "    <path d=\"M18.56 5.44l.94 2.06.94-2.06 2.06-.94-2.06-.94-.94-2.06-.94 2.06-2.06.94zm-11 1L8.5 8.5l.94-2.06 2.06-.94-2.06-.94L8.5 2.5l-.94 2.06-2.06.94zm10 10l.94 2.06.94-2.06 2.06-.94-2.06-.94-.94-2.06-.94 2.06-2.06.94z\"/><path d=\"M17.41 7.96l-1.37-1.37c-.4-.4-.92-.59-1.43-.59-.52 0-1.04.2-1.43.59L10.3 9.45l-7.72 7.72c-.78.78-.78 2.05 0 2.83L4 21.41c.39.39.9.59 1.41.59.51 0 1.02-.2 1.41-.59l7.78-7.78 2.81-2.81c.8-.78.8-2.07 0-2.86zM5.41 20L4 18.59l7.72-7.72 1.47 1.35L5.41 20z\"/>\n",
       "  </svg>\n",
       "      </button>\n",
       "      \n",
       "  <style>\n",
       "    .colab-df-container {\n",
       "      display:flex;\n",
       "      flex-wrap:wrap;\n",
       "      gap: 12px;\n",
       "    }\n",
       "\n",
       "    .colab-df-convert {\n",
       "      background-color: #E8F0FE;\n",
       "      border: none;\n",
       "      border-radius: 50%;\n",
       "      cursor: pointer;\n",
       "      display: none;\n",
       "      fill: #1967D2;\n",
       "      height: 32px;\n",
       "      padding: 0 0 0 0;\n",
       "      width: 32px;\n",
       "    }\n",
       "\n",
       "    .colab-df-convert:hover {\n",
       "      background-color: #E2EBFA;\n",
       "      box-shadow: 0px 1px 2px rgba(60, 64, 67, 0.3), 0px 1px 3px 1px rgba(60, 64, 67, 0.15);\n",
       "      fill: #174EA6;\n",
       "    }\n",
       "\n",
       "    [theme=dark] .colab-df-convert {\n",
       "      background-color: #3B4455;\n",
       "      fill: #D2E3FC;\n",
       "    }\n",
       "\n",
       "    [theme=dark] .colab-df-convert:hover {\n",
       "      background-color: #434B5C;\n",
       "      box-shadow: 0px 1px 3px 1px rgba(0, 0, 0, 0.15);\n",
       "      filter: drop-shadow(0px 1px 2px rgba(0, 0, 0, 0.3));\n",
       "      fill: #FFFFFF;\n",
       "    }\n",
       "  </style>\n",
       "\n",
       "      <script>\n",
       "        const buttonEl =\n",
       "          document.querySelector('#df-90317dc0-f007-4a92-890d-0977f977f452 button.colab-df-convert');\n",
       "        buttonEl.style.display =\n",
       "          google.colab.kernel.accessAllowed ? 'block' : 'none';\n",
       "\n",
       "        async function convertToInteractive(key) {\n",
       "          const element = document.querySelector('#df-90317dc0-f007-4a92-890d-0977f977f452');\n",
       "          const dataTable =\n",
       "            await google.colab.kernel.invokeFunction('convertToInteractive',\n",
       "                                                     [key], {});\n",
       "          if (!dataTable) return;\n",
       "\n",
       "          const docLinkHtml = 'Like what you see? Visit the ' +\n",
       "            '<a target=\"_blank\" href=https://colab.research.google.com/notebooks/data_table.ipynb>data table notebook</a>'\n",
       "            + ' to learn more about interactive tables.';\n",
       "          element.innerHTML = '';\n",
       "          dataTable['output_type'] = 'display_data';\n",
       "          await google.colab.output.renderOutput(dataTable, element);\n",
       "          const docLink = document.createElement('div');\n",
       "          docLink.innerHTML = docLinkHtml;\n",
       "          element.appendChild(docLink);\n",
       "        }\n",
       "      </script>\n",
       "    </div>\n",
       "  </div>\n",
       "  "
      ],
      "text/plain": [
       "          model        CA        F1\n",
       "0          BERT  0.901869  0.906584\n",
       "1  BERT uncased  0.932710  0.936787\n",
       "2       RoBERTa  0.941589  0.944666"
      ]
     },
     "execution_count": 202,
     "metadata": {},
     "output_type": "execute_result"
    }
   ],
   "source": [
    "results_nn"
   ]
  },
  {
   "cell_type": "markdown",
   "metadata": {
    "id": "xDPDTNxS-CHK"
   },
   "source": [
    "Best model was RoBERTa, probably due to its larger size (3x as many parameters and 2x as many layers as BERT)"
   ]
  },
  {
   "cell_type": "code",
   "execution_count": 213,
   "metadata": {
    "id": "zei9Y5qA9lpt"
   },
   "outputs": [],
   "source": [
    "results[\"type\"] = \"#ff0000\"\n",
    "results_nn[\"type\"] = \"#0000ff\"\n",
    "\n",
    "results2 = pd.concat([results, results_nn]).sort_values(\"CA\")"
   ]
  },
  {
   "cell_type": "code",
   "execution_count": 214,
   "metadata": {
    "colab": {
     "base_uri": "https://localhost:8080/",
     "height": 488
    },
    "id": "4TtG3Emn959s",
    "outputId": "d4ce6957-f2c8-4d6c-db5a-87aecdbf55b7"
   },
   "outputs": [
    {
     "data": {
      "text/html": [
       "\n",
       "  <div id=\"df-457363fb-980c-4dc7-86cb-8eed0e6e5885\">\n",
       "    <div class=\"colab-df-container\">\n",
       "      <div>\n",
       "<style scoped>\n",
       "    .dataframe tbody tr th:only-of-type {\n",
       "        vertical-align: middle;\n",
       "    }\n",
       "\n",
       "    .dataframe tbody tr th {\n",
       "        vertical-align: top;\n",
       "    }\n",
       "\n",
       "    .dataframe thead th {\n",
       "        text-align: right;\n",
       "    }\n",
       "</style>\n",
       "<table border=\"1\" class=\"dataframe\">\n",
       "  <thead>\n",
       "    <tr style=\"text-align: right;\">\n",
       "      <th></th>\n",
       "      <th>model</th>\n",
       "      <th>CA</th>\n",
       "      <th>F1</th>\n",
       "    </tr>\n",
       "  </thead>\n",
       "  <tbody>\n",
       "    <tr>\n",
       "      <th>0</th>\n",
       "      <td>Majority</td>\n",
       "      <td>0.523364</td>\n",
       "      <td>0.687117</td>\n",
       "    </tr>\n",
       "    <tr>\n",
       "      <th>4</th>\n",
       "      <td>kNN, k=50</td>\n",
       "      <td>0.664486</td>\n",
       "      <td>0.530105</td>\n",
       "    </tr>\n",
       "    <tr>\n",
       "      <th>3</th>\n",
       "      <td>kNN, k=10</td>\n",
       "      <td>0.727570</td>\n",
       "      <td>0.652355</td>\n",
       "    </tr>\n",
       "    <tr>\n",
       "      <th>2</th>\n",
       "      <td>kNN, k=5</td>\n",
       "      <td>0.754206</td>\n",
       "      <td>0.699085</td>\n",
       "    </tr>\n",
       "    <tr>\n",
       "      <th>1</th>\n",
       "      <td>kNN, k=1</td>\n",
       "      <td>0.775234</td>\n",
       "      <td>0.745637</td>\n",
       "    </tr>\n",
       "    <tr>\n",
       "      <th>6</th>\n",
       "      <td>Bayes</td>\n",
       "      <td>0.858411</td>\n",
       "      <td>0.850222</td>\n",
       "    </tr>\n",
       "    <tr>\n",
       "      <th>7</th>\n",
       "      <td>R.F., 20 trees</td>\n",
       "      <td>0.886449</td>\n",
       "      <td>0.890590</td>\n",
       "    </tr>\n",
       "    <tr>\n",
       "      <th>0</th>\n",
       "      <td>BERT</td>\n",
       "      <td>0.901869</td>\n",
       "      <td>0.906584</td>\n",
       "    </tr>\n",
       "    <tr>\n",
       "      <th>8</th>\n",
       "      <td>R.F., 100 trees</td>\n",
       "      <td>0.904673</td>\n",
       "      <td>0.908273</td>\n",
       "    </tr>\n",
       "    <tr>\n",
       "      <th>9</th>\n",
       "      <td>R.F., 250 trees</td>\n",
       "      <td>0.905140</td>\n",
       "      <td>0.908846</td>\n",
       "    </tr>\n",
       "    <tr>\n",
       "      <th>10</th>\n",
       "      <td>R.F., 1000 trees</td>\n",
       "      <td>0.906075</td>\n",
       "      <td>0.909987</td>\n",
       "    </tr>\n",
       "    <tr>\n",
       "      <th>5</th>\n",
       "      <td>SVM</td>\n",
       "      <td>0.914019</td>\n",
       "      <td>0.915596</td>\n",
       "    </tr>\n",
       "    <tr>\n",
       "      <th>1</th>\n",
       "      <td>BERT uncased</td>\n",
       "      <td>0.932710</td>\n",
       "      <td>0.936787</td>\n",
       "    </tr>\n",
       "    <tr>\n",
       "      <th>2</th>\n",
       "      <td>RoBERTa</td>\n",
       "      <td>0.941589</td>\n",
       "      <td>0.944666</td>\n",
       "    </tr>\n",
       "  </tbody>\n",
       "</table>\n",
       "</div>\n",
       "      <button class=\"colab-df-convert\" onclick=\"convertToInteractive('df-457363fb-980c-4dc7-86cb-8eed0e6e5885')\"\n",
       "              title=\"Convert this dataframe to an interactive table.\"\n",
       "              style=\"display:none;\">\n",
       "        \n",
       "  <svg xmlns=\"http://www.w3.org/2000/svg\" height=\"24px\"viewBox=\"0 0 24 24\"\n",
       "       width=\"24px\">\n",
       "    <path d=\"M0 0h24v24H0V0z\" fill=\"none\"/>\n",
       "    <path d=\"M18.56 5.44l.94 2.06.94-2.06 2.06-.94-2.06-.94-.94-2.06-.94 2.06-2.06.94zm-11 1L8.5 8.5l.94-2.06 2.06-.94-2.06-.94L8.5 2.5l-.94 2.06-2.06.94zm10 10l.94 2.06.94-2.06 2.06-.94-2.06-.94-.94-2.06-.94 2.06-2.06.94z\"/><path d=\"M17.41 7.96l-1.37-1.37c-.4-.4-.92-.59-1.43-.59-.52 0-1.04.2-1.43.59L10.3 9.45l-7.72 7.72c-.78.78-.78 2.05 0 2.83L4 21.41c.39.39.9.59 1.41.59.51 0 1.02-.2 1.41-.59l7.78-7.78 2.81-2.81c.8-.78.8-2.07 0-2.86zM5.41 20L4 18.59l7.72-7.72 1.47 1.35L5.41 20z\"/>\n",
       "  </svg>\n",
       "      </button>\n",
       "      \n",
       "  <style>\n",
       "    .colab-df-container {\n",
       "      display:flex;\n",
       "      flex-wrap:wrap;\n",
       "      gap: 12px;\n",
       "    }\n",
       "\n",
       "    .colab-df-convert {\n",
       "      background-color: #E8F0FE;\n",
       "      border: none;\n",
       "      border-radius: 50%;\n",
       "      cursor: pointer;\n",
       "      display: none;\n",
       "      fill: #1967D2;\n",
       "      height: 32px;\n",
       "      padding: 0 0 0 0;\n",
       "      width: 32px;\n",
       "    }\n",
       "\n",
       "    .colab-df-convert:hover {\n",
       "      background-color: #E2EBFA;\n",
       "      box-shadow: 0px 1px 2px rgba(60, 64, 67, 0.3), 0px 1px 3px 1px rgba(60, 64, 67, 0.15);\n",
       "      fill: #174EA6;\n",
       "    }\n",
       "\n",
       "    [theme=dark] .colab-df-convert {\n",
       "      background-color: #3B4455;\n",
       "      fill: #D2E3FC;\n",
       "    }\n",
       "\n",
       "    [theme=dark] .colab-df-convert:hover {\n",
       "      background-color: #434B5C;\n",
       "      box-shadow: 0px 1px 3px 1px rgba(0, 0, 0, 0.15);\n",
       "      filter: drop-shadow(0px 1px 2px rgba(0, 0, 0, 0.3));\n",
       "      fill: #FFFFFF;\n",
       "    }\n",
       "  </style>\n",
       "\n",
       "      <script>\n",
       "        const buttonEl =\n",
       "          document.querySelector('#df-457363fb-980c-4dc7-86cb-8eed0e6e5885 button.colab-df-convert');\n",
       "        buttonEl.style.display =\n",
       "          google.colab.kernel.accessAllowed ? 'block' : 'none';\n",
       "\n",
       "        async function convertToInteractive(key) {\n",
       "          const element = document.querySelector('#df-457363fb-980c-4dc7-86cb-8eed0e6e5885');\n",
       "          const dataTable =\n",
       "            await google.colab.kernel.invokeFunction('convertToInteractive',\n",
       "                                                     [key], {});\n",
       "          if (!dataTable) return;\n",
       "\n",
       "          const docLinkHtml = 'Like what you see? Visit the ' +\n",
       "            '<a target=\"_blank\" href=https://colab.research.google.com/notebooks/data_table.ipynb>data table notebook</a>'\n",
       "            + ' to learn more about interactive tables.';\n",
       "          element.innerHTML = '';\n",
       "          dataTable['output_type'] = 'display_data';\n",
       "          await google.colab.output.renderOutput(dataTable, element);\n",
       "          const docLink = document.createElement('div');\n",
       "          docLink.innerHTML = docLinkHtml;\n",
       "          element.appendChild(docLink);\n",
       "        }\n",
       "      </script>\n",
       "    </div>\n",
       "  </div>\n",
       "  "
      ],
      "text/plain": [
       "               model        CA        F1\n",
       "0           Majority  0.523364  0.687117\n",
       "4          kNN, k=50  0.664486  0.530105\n",
       "3          kNN, k=10  0.727570  0.652355\n",
       "2           kNN, k=5  0.754206  0.699085\n",
       "1           kNN, k=1  0.775234  0.745637\n",
       "6              Bayes  0.858411  0.850222\n",
       "7     R.F., 20 trees  0.886449  0.890590\n",
       "0               BERT  0.901869  0.906584\n",
       "8    R.F., 100 trees  0.904673  0.908273\n",
       "9    R.F., 250 trees  0.905140  0.908846\n",
       "10  R.F., 1000 trees  0.906075  0.909987\n",
       "5                SVM  0.914019  0.915596\n",
       "1       BERT uncased  0.932710  0.936787\n",
       "2            RoBERTa  0.941589  0.944666"
      ]
     },
     "execution_count": 214,
     "metadata": {},
     "output_type": "execute_result"
    }
   ],
   "source": [
    "results2[[\"model\", \"CA\", \"F1\"]]"
   ]
  },
  {
   "cell_type": "code",
   "execution_count": 215,
   "metadata": {
    "colab": {
     "base_uri": "https://localhost:8080/",
     "height": 379
    },
    "id": "QW_NNYKK9_HI",
    "outputId": "1f2e440d-5b6f-47d5-b0d0-c530b24fdeaf"
   },
   "outputs": [
    {
     "data": {
      "text/plain": [
       "Text(0.5, 1.0, 'Accuracy')"
      ]
     },
     "execution_count": 215,
     "metadata": {},
     "output_type": "execute_result"
    },
    {
     "data": {
      "image/png": "[encoded data removed]",
      "text/plain": [
       "<Figure size 432x288 with 1 Axes>"
      ]
     },
     "metadata": {
      "needs_background": "light"
     },
     "output_type": "display_data"
    }
   ],
   "source": [
    "results2.plot.bar(\"model\", \"CA\", color=results2[\"type\"])\n",
    "plt.ylabel(\"CA\")\n",
    "plt.title(\"Accuracy\")"
   ]
  },
  {
   "cell_type": "code",
   "execution_count": 216,
   "metadata": {
    "colab": {
     "base_uri": "https://localhost:8080/",
     "height": 379
    },
    "id": "M7A41u8Z-rQ_",
    "outputId": "08e78c68-3f4f-4757-c1c7-c46b3c6cd45e"
   },
   "outputs": [
    {
     "data": {
      "text/plain": [
       "Text(0.5, 1.0, 'F1')"
      ]
     },
     "execution_count": 216,
     "metadata": {},
     "output_type": "execute_result"
    },
    {
     "data": {
      "image/png": "[encoded data removed]",
      "text/plain": [
       "<Figure size 432x288 with 1 Axes>"
      ]
     },
     "metadata": {
      "needs_background": "light"
     },
     "output_type": "display_data"
    }
   ],
   "source": [
    "results2.plot.bar(\"model\", \"F1\", color=results2[\"type\"])\n",
    "plt.ylabel(\"F1\")\n",
    "plt.title(\"F1\")"
   ]
  },
  {
   "cell_type": "markdown",
   "metadata": {
    "id": "Y_O9lMVy_Qdq"
   },
   "source": [
    "The best classifier was RoBERTa with logistic regression as a classifier on top, beating all but the best of the baselines in both CA and F1."
   ]
  },
  {
   "cell_type": "code",
   "execution_count": null,
   "metadata": {
    "id": "J36TfTVT_cB-"
   },
   "outputs": [],
   "source": []
  }
 ],
 "metadata": {
  "accelerator": "GPU",
  "colab": {
   "collapsed_sections": [],
   "name": "is2.ipynb",
   "provenance": []
  },
  "kernelspec": {
   "display_name": "Python 3",
   "language": "python",
   "name": "python3"
  },
  "language_info": {
   "codemirror_mode": {
    "name": "ipython",
    "version": 3
   },
   "file_extension": ".py",
   "mimetype": "text/x-python",
   "name": "python",
   "nbconvert_exporter": "python",
   "pygments_lexer": "ipython3",
   "version": "3.6.9"
  },
  "widgets": {
   "application/vnd.jupyter.widget-state+json": {
    "01834492e5bd4ca68bfa319b9da92df7": {
     "model_module": "@jupyter-widgets/controls",
     "model_module_version": "1.5.0",
     "model_name": "DescriptionStyleModel",
     "state": {
      "_model_module": "@jupyter-widgets/controls",
      "_model_module_version": "1.5.0",
      "_model_name": "DescriptionStyleModel",
      "_view_count": null,
      "_view_module": "@jupyter-widgets/base",
      "_view_module_version": "1.2.0",
      "_view_name": "StyleView",
      "description_width": ""
     }
    },
    "01c3a7736c564eae856edf28488d71e1": {
     "model_module": "@jupyter-widgets/base",
     "model_module_version": "1.2.0",
     "model_name": "LayoutModel",
     "state": {
      "_model_module": "@jupyter-widgets/base",
      "_model_module_version": "1.2.0",
      "_model_name": "LayoutModel",
      "_view_count": null,
      "_view_module": "@jupyter-widgets/base",
      "_view_module_version": "1.2.0",
      "_view_name": "LayoutView",
      "align_content": null,
      "align_items": null,
      "align_self": null,
      "border": null,
      "bottom": null,
      "display": null,
      "flex": null,
      "flex_flow": null,
      "grid_area": null,
      "grid_auto_columns": null,
      "grid_auto_flow": null,
      "grid_auto_rows": null,
      "grid_column": null,
      "grid_gap": null,
      "grid_row": null,
      "grid_template_areas": null,
      "grid_template_columns": null,
      "grid_template_rows": null,
      "height": null,
      "justify_content": null,
      "justify_items": null,
      "left": null,
      "margin": null,
      "max_height": null,
      "max_width": null,
      "min_height": null,
      "min_width": null,
      "object_fit": null,
      "object_position": null,
      "order": null,
      "overflow": null,
      "overflow_x": null,
      "overflow_y": null,
      "padding": null,
      "right": null,
      "top": null,
      "visibility": null,
      "width": null
     }
    },
    "0622c03fa9684143a2a6090e3b70462b": {
     "model_module": "@jupyter-widgets/controls",
     "model_module_version": "1.5.0",
     "model_name": "HTMLModel",
     "state": {
      "_dom_classes": [],
      "_model_module": "@jupyter-widgets/controls",
      "_model_module_version": "1.5.0",
      "_model_name": "HTMLModel",
      "_view_count": null,
      "_view_module": "@jupyter-widgets/controls",
      "_view_module_version": "1.5.0",
      "_view_name": "HTMLView",
      "description": "",
      "description_tooltip": null,
      "layout": "IPY_MODEL_bbc379f2cd2d40908b3424839bdbfa03",
      "placeholder": "​",
      "style": "IPY_MODEL_7f319dff17fe4ca389db36c1094fb965",
      "value": "Downloading: 100%"
     }
    },
    "0e79d7960e4749309f5fa5cfc810b21d": {
     "model_module": "@jupyter-widgets/controls",
     "model_module_version": "1.5.0",
     "model_name": "FloatProgressModel",
     "state": {
      "_dom_classes": [],
      "_model_module": "@jupyter-widgets/controls",
      "_model_module_version": "1.5.0",
      "_model_name": "FloatProgressModel",
      "_view_count": null,
      "_view_module": "@jupyter-widgets/controls",
      "_view_module_version": "1.5.0",
      "_view_name": "ProgressView",
      "bar_style": "success",
      "description": "",
      "description_tooltip": null,
      "layout": "IPY_MODEL_b55e28c435a844e1a63176dc820e10d3",
      "max": 570,
      "min": 0,
      "orientation": "horizontal",
      "style": "IPY_MODEL_2971b3590af542399376032debc2c700",
      "value": 570
     }
    },
    "1586102090ad429babe8d370442ed0fb": {
     "model_module": "@jupyter-widgets/controls",
     "model_module_version": "1.5.0",
     "model_name": "HBoxModel",
     "state": {
      "_dom_classes": [],
      "_model_module": "@jupyter-widgets/controls",
      "_model_module_version": "1.5.0",
      "_model_name": "HBoxModel",
      "_view_count": null,
      "_view_module": "@jupyter-widgets/controls",
      "_view_module_version": "1.5.0",
      "_view_name": "HBoxView",
      "box_style": "",
      "children": [
       "IPY_MODEL_0622c03fa9684143a2a6090e3b70462b",
       "IPY_MODEL_485f55d75d9541e6bd019579058c7f1e",
       "IPY_MODEL_88e6290a89954f7bbbba19923c80bfa6"
      ],
      "layout": "IPY_MODEL_cf4e2eb10cb94d6b942c572cb5231580"
     }
    },
    "17664b714246499c84b5265d8817322b": {
     "model_module": "@jupyter-widgets/controls",
     "model_module_version": "1.5.0",
     "model_name": "HTMLModel",
     "state": {
      "_dom_classes": [],
      "_model_module": "@jupyter-widgets/controls",
      "_model_module_version": "1.5.0",
      "_model_name": "HTMLModel",
      "_view_count": null,
      "_view_module": "@jupyter-widgets/controls",
      "_view_module_version": "1.5.0",
      "_view_name": "HTMLView",
      "description": "",
      "description_tooltip": null,
      "layout": "IPY_MODEL_5c37a22326a24579b1d54d59ca686fc5",
      "placeholder": "​",
      "style": "IPY_MODEL_28d7d11771a34be5aa0f1b98f499223d",
      "value": " 446k/446k [00:00&lt;00:00, 1.44MB/s]"
     }
    },
    "17bf2ca4f9d7427887813063cf191e5c": {
     "model_module": "@jupyter-widgets/controls",
     "model_module_version": "1.5.0",
     "model_name": "DescriptionStyleModel",
     "state": {
      "_model_module": "@jupyter-widgets/controls",
      "_model_module_version": "1.5.0",
      "_model_name": "DescriptionStyleModel",
      "_view_count": null,
      "_view_module": "@jupyter-widgets/base",
      "_view_module_version": "1.2.0",
      "_view_name": "StyleView",
      "description_width": ""
     }
    },
    "28d7d11771a34be5aa0f1b98f499223d": {
     "model_module": "@jupyter-widgets/controls",
     "model_module_version": "1.5.0",
     "model_name": "DescriptionStyleModel",
     "state": {
      "_model_module": "@jupyter-widgets/controls",
      "_model_module_version": "1.5.0",
      "_model_name": "DescriptionStyleModel",
      "_view_count": null,
      "_view_module": "@jupyter-widgets/base",
      "_view_module_version": "1.2.0",
      "_view_name": "StyleView",
      "description_width": ""
     }
    },
    "290c969db2bc4dfebfee7ad554f3555b": {
     "model_module": "@jupyter-widgets/base",
     "model_module_version": "1.2.0",
     "model_name": "LayoutModel",
     "state": {
      "_model_module": "@jupyter-widgets/base",
      "_model_module_version": "1.2.0",
      "_model_name": "LayoutModel",
      "_view_count": null,
      "_view_module": "@jupyter-widgets/base",
      "_view_module_version": "1.2.0",
      "_view_name": "LayoutView",
      "align_content": null,
      "align_items": null,
      "align_self": null,
      "border": null,
      "bottom": null,
      "display": null,
      "flex": null,
      "flex_flow": null,
      "grid_area": null,
      "grid_auto_columns": null,
      "grid_auto_flow": null,
      "grid_auto_rows": null,
      "grid_column": null,
      "grid_gap": null,
      "grid_row": null,
      "grid_template_areas": null,
      "grid_template_columns": null,
      "grid_template_rows": null,
      "height": null,
      "justify_content": null,
      "justify_items": null,
      "left": null,
      "margin": null,
      "max_height": null,
      "max_width": null,
      "min_height": null,
      "min_width": null,
      "object_fit": null,
      "object_position": null,
      "order": null,
      "overflow": null,
      "overflow_x": null,
      "overflow_y": null,
      "padding": null,
      "right": null,
      "top": null,
      "visibility": null,
      "width": null
     }
    },
    "2971b3590af542399376032debc2c700": {
     "model_module": "@jupyter-widgets/controls",
     "model_module_version": "1.5.0",
     "model_name": "ProgressStyleModel",
     "state": {
      "_model_module": "@jupyter-widgets/controls",
      "_model_module_version": "1.5.0",
      "_model_name": "ProgressStyleModel",
      "_view_count": null,
      "_view_module": "@jupyter-widgets/base",
      "_view_module_version": "1.2.0",
      "_view_name": "StyleView",
      "bar_color": null,
      "description_width": ""
     }
    },
    "2b76e1ba43f747bf9c927d8df01dcde0": {
     "model_module": "@jupyter-widgets/controls",
     "model_module_version": "1.5.0",
     "model_name": "FloatProgressModel",
     "state": {
      "_dom_classes": [],
      "_model_module": "@jupyter-widgets/controls",
      "_model_module_version": "1.5.0",
      "_model_name": "FloatProgressModel",
      "_view_count": null,
      "_view_module": "@jupyter-widgets/controls",
      "_view_module_version": "1.5.0",
      "_view_name": "ProgressView",
      "bar_style": "success",
      "description": "",
      "description_tooltip": null,
      "layout": "IPY_MODEL_5092ca0763684d5ea964e0cda3194136",
      "max": 898823,
      "min": 0,
      "orientation": "horizontal",
      "style": "IPY_MODEL_fe8a28a2b96547a2839f6d565df9f8bb",
      "value": 898823
     }
    },
    "2f102eac8a5a4cf4ba066389af23ab18": {
     "model_module": "@jupyter-widgets/controls",
     "model_module_version": "1.5.0",
     "model_name": "DescriptionStyleModel",
     "state": {
      "_model_module": "@jupyter-widgets/controls",
      "_model_module_version": "1.5.0",
      "_model_name": "DescriptionStyleModel",
      "_view_count": null,
      "_view_module": "@jupyter-widgets/base",
      "_view_module_version": "1.2.0",
      "_view_name": "StyleView",
      "description_width": ""
     }
    },
    "36d60b85254d4b32a1bcfd9267dc8791": {
     "model_module": "@jupyter-widgets/controls",
     "model_module_version": "1.5.0",
     "model_name": "HBoxModel",
     "state": {
      "_dom_classes": [],
      "_model_module": "@jupyter-widgets/controls",
      "_model_module_version": "1.5.0",
      "_model_name": "HBoxModel",
      "_view_count": null,
      "_view_module": "@jupyter-widgets/controls",
      "_view_module_version": "1.5.0",
      "_view_name": "HBoxView",
      "box_style": "",
      "children": [
       "IPY_MODEL_cb0ed9d95a094a97a36b97a27f599932",
       "IPY_MODEL_2b76e1ba43f747bf9c927d8df01dcde0",
       "IPY_MODEL_c3d9f3eebb8c46c4b39cff76fd3184e5"
      ],
      "layout": "IPY_MODEL_f0ee872ac4da4fc28aeaa0f9b266b848"
     }
    },
    "378a74deb55c49b7aba9b9697aa530a8": {
     "model_module": "@jupyter-widgets/controls",
     "model_module_version": "1.5.0",
     "model_name": "HBoxModel",
     "state": {
      "_dom_classes": [],
      "_model_module": "@jupyter-widgets/controls",
      "_model_module_version": "1.5.0",
      "_model_name": "HBoxModel",
      "_view_count": null,
      "_view_module": "@jupyter-widgets/controls",
      "_view_module_version": "1.5.0",
      "_view_name": "HBoxView",
      "box_style": "",
      "children": [
       "IPY_MODEL_7a5be218901140139c14009b02b0a466",
       "IPY_MODEL_b34e856e382544e8bee9cf2c15f35a58",
       "IPY_MODEL_17664b714246499c84b5265d8817322b"
      ],
      "layout": "IPY_MODEL_a10b131973c34cf696a83f10da939adf"
     }
    },
    "47e64c30613f4126bb92de6a0bd246b4": {
     "model_module": "@jupyter-widgets/base",
     "model_module_version": "1.2.0",
     "model_name": "LayoutModel",
     "state": {
      "_model_module": "@jupyter-widgets/base",
      "_model_module_version": "1.2.0",
      "_model_name": "LayoutModel",
      "_view_count": null,
      "_view_module": "@jupyter-widgets/base",
      "_view_module_version": "1.2.0",
      "_view_name": "LayoutView",
      "align_content": null,
      "align_items": null,
      "align_self": null,
      "border": null,
      "bottom": null,
      "display": null,
      "flex": null,
      "flex_flow": null,
      "grid_area": null,
      "grid_auto_columns": null,
      "grid_auto_flow": null,
      "grid_auto_rows": null,
      "grid_column": null,
      "grid_gap": null,
      "grid_row": null,
      "grid_template_areas": null,
      "grid_template_columns": null,
      "grid_template_rows": null,
      "height": null,
      "justify_content": null,
      "justify_items": null,
      "left": null,
      "margin": null,
      "max_height": null,
      "max_width": null,
      "min_height": null,
      "min_width": null,
      "object_fit": null,
      "object_position": null,
      "order": null,
      "overflow": null,
      "overflow_x": null,
      "overflow_y": null,
      "padding": null,
      "right": null,
      "top": null,
      "visibility": null,
      "width": null
     }
    },
    "485f55d75d9541e6bd019579058c7f1e": {
     "model_module": "@jupyter-widgets/controls",
     "model_module_version": "1.5.0",
     "model_name": "FloatProgressModel",
     "state": {
      "_dom_classes": [],
      "_model_module": "@jupyter-widgets/controls",
      "_model_module_version": "1.5.0",
      "_model_name": "FloatProgressModel",
      "_view_count": null,
      "_view_module": "@jupyter-widgets/controls",
      "_view_module_version": "1.5.0",
      "_view_name": "ProgressView",
      "bar_style": "success",
      "description": "",
      "description_tooltip": null,
      "layout": "IPY_MODEL_290c969db2bc4dfebfee7ad554f3555b",
      "max": 440473133,
      "min": 0,
      "orientation": "horizontal",
      "style": "IPY_MODEL_c0e38fba0b134a9f937094057bc233d5",
      "value": 440473133
     }
    },
    "4e73be22b54c4183b9be24d725435114": {
     "model_module": "@jupyter-widgets/base",
     "model_module_version": "1.2.0",
     "model_name": "LayoutModel",
     "state": {
      "_model_module": "@jupyter-widgets/base",
      "_model_module_version": "1.2.0",
      "_model_name": "LayoutModel",
      "_view_count": null,
      "_view_module": "@jupyter-widgets/base",
      "_view_module_version": "1.2.0",
      "_view_name": "LayoutView",
      "align_content": null,
      "align_items": null,
      "align_self": null,
      "border": null,
      "bottom": null,
      "display": null,
      "flex": null,
      "flex_flow": null,
      "grid_area": null,
      "grid_auto_columns": null,
      "grid_auto_flow": null,
      "grid_auto_rows": null,
      "grid_column": null,
      "grid_gap": null,
      "grid_row": null,
      "grid_template_areas": null,
      "grid_template_columns": null,
      "grid_template_rows": null,
      "height": null,
      "justify_content": null,
      "justify_items": null,
      "left": null,
      "margin": null,
      "max_height": null,
      "max_width": null,
      "min_height": null,
      "min_width": null,
      "object_fit": null,
      "object_position": null,
      "order": null,
      "overflow": null,
      "overflow_x": null,
      "overflow_y": null,
      "padding": null,
      "right": null,
      "top": null,
      "visibility": null,
      "width": null
     }
    },
    "4f875b75c4264e3c82c77cf25256b373": {
     "model_module": "@jupyter-widgets/controls",
     "model_module_version": "1.5.0",
     "model_name": "DescriptionStyleModel",
     "state": {
      "_model_module": "@jupyter-widgets/controls",
      "_model_module_version": "1.5.0",
      "_model_name": "DescriptionStyleModel",
      "_view_count": null,
      "_view_module": "@jupyter-widgets/base",
      "_view_module_version": "1.2.0",
      "_view_name": "StyleView",
      "description_width": ""
     }
    },
    "5092ca0763684d5ea964e0cda3194136": {
     "model_module": "@jupyter-widgets/base",
     "model_module_version": "1.2.0",
     "model_name": "LayoutModel",
     "state": {
      "_model_module": "@jupyter-widgets/base",
      "_model_module_version": "1.2.0",
      "_model_name": "LayoutModel",
      "_view_count": null,
      "_view_module": "@jupyter-widgets/base",
      "_view_module_version": "1.2.0",
      "_view_name": "LayoutView",
      "align_content": null,
      "align_items": null,
      "align_self": null,
      "border": null,
      "bottom": null,
      "display": null,
      "flex": null,
      "flex_flow": null,
      "grid_area": null,
      "grid_auto_columns": null,
      "grid_auto_flow": null,
      "grid_auto_rows": null,
      "grid_column": null,
      "grid_gap": null,
      "grid_row": null,
      "grid_template_areas": null,
      "grid_template_columns": null,
      "grid_template_rows": null,
      "height": null,
      "justify_content": null,
      "justify_items": null,
      "left": null,
      "margin": null,
      "max_height": null,
      "max_width": null,
      "min_height": null,
      "min_width": null,
      "object_fit": null,
      "object_position": null,
      "order": null,
      "overflow": null,
      "overflow_x": null,
      "overflow_y": null,
      "padding": null,
      "right": null,
      "top": null,
      "visibility": null,
      "width": null
     }
    },
    "581e03ffd0d34f4295194b76eff6304c": {
     "model_module": "@jupyter-widgets/controls",
     "model_module_version": "1.5.0",
     "model_name": "DescriptionStyleModel",
     "state": {
      "_model_module": "@jupyter-widgets/controls",
      "_model_module_version": "1.5.0",
      "_model_name": "DescriptionStyleModel",
      "_view_count": null,
      "_view_module": "@jupyter-widgets/base",
      "_view_module_version": "1.2.0",
      "_view_name": "StyleView",
      "description_width": ""
     }
    },
    "5c37a22326a24579b1d54d59ca686fc5": {
     "model_module": "@jupyter-widgets/base",
     "model_module_version": "1.2.0",
     "model_name": "LayoutModel",
     "state": {
      "_model_module": "@jupyter-widgets/base",
      "_model_module_version": "1.2.0",
      "_model_name": "LayoutModel",
      "_view_count": null,
      "_view_module": "@jupyter-widgets/base",
      "_view_module_version": "1.2.0",
      "_view_name": "LayoutView",
      "align_content": null,
      "align_items": null,
      "align_self": null,
      "border": null,
      "bottom": null,
      "display": null,
      "flex": null,
      "flex_flow": null,
      "grid_area": null,
      "grid_auto_columns": null,
      "grid_auto_flow": null,
      "grid_auto_rows": null,
      "grid_column": null,
      "grid_gap": null,
      "grid_row": null,
      "grid_template_areas": null,
      "grid_template_columns": null,
      "grid_template_rows": null,
      "height": null,
      "justify_content": null,
      "justify_items": null,
      "left": null,
      "margin": null,
      "max_height": null,
      "max_width": null,
      "min_height": null,
      "min_width": null,
      "object_fit": null,
      "object_position": null,
      "order": null,
      "overflow": null,
      "overflow_x": null,
      "overflow_y": null,
      "padding": null,
      "right": null,
      "top": null,
      "visibility": null,
      "width": null
     }
    },
    "6101d0c950c44f29a766842a0f291c88": {
     "model_module": "@jupyter-widgets/base",
     "model_module_version": "1.2.0",
     "model_name": "LayoutModel",
     "state": {
      "_model_module": "@jupyter-widgets/base",
      "_model_module_version": "1.2.0",
      "_model_name": "LayoutModel",
      "_view_count": null,
      "_view_module": "@jupyter-widgets/base",
      "_view_module_version": "1.2.0",
      "_view_name": "LayoutView",
      "align_content": null,
      "align_items": null,
      "align_self": null,
      "border": null,
      "bottom": null,
      "display": null,
      "flex": null,
      "flex_flow": null,
      "grid_area": null,
      "grid_auto_columns": null,
      "grid_auto_flow": null,
      "grid_auto_rows": null,
      "grid_column": null,
      "grid_gap": null,
      "grid_row": null,
      "grid_template_areas": null,
      "grid_template_columns": null,
      "grid_template_rows": null,
      "height": null,
      "justify_content": null,
      "justify_items": null,
      "left": null,
      "margin": null,
      "max_height": null,
      "max_width": null,
      "min_height": null,
      "min_width": null,
      "object_fit": null,
      "object_position": null,
      "order": null,
      "overflow": null,
      "overflow_x": null,
      "overflow_y": null,
      "padding": null,
      "right": null,
      "top": null,
      "visibility": null,
      "width": null
     }
    },
    "7536ee17130e40859a9269c80379fd21": {
     "model_module": "@jupyter-widgets/base",
     "model_module_version": "1.2.0",
     "model_name": "LayoutModel",
     "state": {
      "_model_module": "@jupyter-widgets/base",
      "_model_module_version": "1.2.0",
      "_model_name": "LayoutModel",
      "_view_count": null,
      "_view_module": "@jupyter-widgets/base",
      "_view_module_version": "1.2.0",
      "_view_name": "LayoutView",
      "align_content": null,
      "align_items": null,
      "align_self": null,
      "border": null,
      "bottom": null,
      "display": null,
      "flex": null,
      "flex_flow": null,
      "grid_area": null,
      "grid_auto_columns": null,
      "grid_auto_flow": null,
      "grid_auto_rows": null,
      "grid_column": null,
      "grid_gap": null,
      "grid_row": null,
      "grid_template_areas": null,
      "grid_template_columns": null,
      "grid_template_rows": null,
      "height": null,
      "justify_content": null,
      "justify_items": null,
      "left": null,
      "margin": null,
      "max_height": null,
      "max_width": null,
      "min_height": null,
      "min_width": null,
      "object_fit": null,
      "object_position": null,
      "order": null,
      "overflow": null,
      "overflow_x": null,
      "overflow_y": null,
      "padding": null,
      "right": null,
      "top": null,
      "visibility": null,
      "width": null
     }
    },
    "7a5be218901140139c14009b02b0a466": {
     "model_module": "@jupyter-widgets/controls",
     "model_module_version": "1.5.0",
     "model_name": "HTMLModel",
     "state": {
      "_dom_classes": [],
      "_model_module": "@jupyter-widgets/controls",
      "_model_module_version": "1.5.0",
      "_model_name": "HTMLModel",
      "_view_count": null,
      "_view_module": "@jupyter-widgets/controls",
      "_view_module_version": "1.5.0",
      "_view_name": "HTMLView",
      "description": "",
      "description_tooltip": null,
      "layout": "IPY_MODEL_4e73be22b54c4183b9be24d725435114",
      "placeholder": "​",
      "style": "IPY_MODEL_01834492e5bd4ca68bfa319b9da92df7",
      "value": "Downloading: 100%"
     }
    },
    "7f319dff17fe4ca389db36c1094fb965": {
     "model_module": "@jupyter-widgets/controls",
     "model_module_version": "1.5.0",
     "model_name": "DescriptionStyleModel",
     "state": {
      "_model_module": "@jupyter-widgets/controls",
      "_model_module_version": "1.5.0",
      "_model_name": "DescriptionStyleModel",
      "_view_count": null,
      "_view_module": "@jupyter-widgets/base",
      "_view_module_version": "1.2.0",
      "_view_name": "StyleView",
      "description_width": ""
     }
    },
    "88e6290a89954f7bbbba19923c80bfa6": {
     "model_module": "@jupyter-widgets/controls",
     "model_module_version": "1.5.0",
     "model_name": "HTMLModel",
     "state": {
      "_dom_classes": [],
      "_model_module": "@jupyter-widgets/controls",
      "_model_module_version": "1.5.0",
      "_model_name": "HTMLModel",
      "_view_count": null,
      "_view_module": "@jupyter-widgets/controls",
      "_view_module_version": "1.5.0",
      "_view_name": "HTMLView",
      "description": "",
      "description_tooltip": null,
      "layout": "IPY_MODEL_f2eee7f474e747fdad77fb862461ff9c",
      "placeholder": "​",
      "style": "IPY_MODEL_4f875b75c4264e3c82c77cf25256b373",
      "value": " 420M/420M [00:40&lt;00:00, 7.77MB/s]"
     }
    },
    "a10a494f7ea54c26ae3649f9a37cae03": {
     "model_module": "@jupyter-widgets/base",
     "model_module_version": "1.2.0",
     "model_name": "LayoutModel",
     "state": {
      "_model_module": "@jupyter-widgets/base",
      "_model_module_version": "1.2.0",
      "_model_name": "LayoutModel",
      "_view_count": null,
      "_view_module": "@jupyter-widgets/base",
      "_view_module_version": "1.2.0",
      "_view_name": "LayoutView",
      "align_content": null,
      "align_items": null,
      "align_self": null,
      "border": null,
      "bottom": null,
      "display": null,
      "flex": null,
      "flex_flow": null,
      "grid_area": null,
      "grid_auto_columns": null,
      "grid_auto_flow": null,
      "grid_auto_rows": null,
      "grid_column": null,
      "grid_gap": null,
      "grid_row": null,
      "grid_template_areas": null,
      "grid_template_columns": null,
      "grid_template_rows": null,
      "height": null,
      "justify_content": null,
      "justify_items": null,
      "left": null,
      "margin": null,
      "max_height": null,
      "max_width": null,
      "min_height": null,
      "min_width": null,
      "object_fit": null,
      "object_position": null,
      "order": null,
      "overflow": null,
      "overflow_x": null,
      "overflow_y": null,
      "padding": null,
      "right": null,
      "top": null,
      "visibility": null,
      "width": null
     }
    },
    "a10b131973c34cf696a83f10da939adf": {
     "model_module": "@jupyter-widgets/base",
     "model_module_version": "1.2.0",
     "model_name": "LayoutModel",
     "state": {
      "_model_module": "@jupyter-widgets/base",
      "_model_module_version": "1.2.0",
      "_model_name": "LayoutModel",
      "_view_count": null,
      "_view_module": "@jupyter-widgets/base",
      "_view_module_version": "1.2.0",
      "_view_name": "LayoutView",
      "align_content": null,
      "align_items": null,
      "align_self": null,
      "border": null,
      "bottom": null,
      "display": null,
      "flex": null,
      "flex_flow": null,
      "grid_area": null,
      "grid_auto_columns": null,
      "grid_auto_flow": null,
      "grid_auto_rows": null,
      "grid_column": null,
      "grid_gap": null,
      "grid_row": null,
      "grid_template_areas": null,
      "grid_template_columns": null,
      "grid_template_rows": null,
      "height": null,
      "justify_content": null,
      "justify_items": null,
      "left": null,
      "margin": null,
      "max_height": null,
      "max_width": null,
      "min_height": null,
      "min_width": null,
      "object_fit": null,
      "object_position": null,
      "order": null,
      "overflow": null,
      "overflow_x": null,
      "overflow_y": null,
      "padding": null,
      "right": null,
      "top": null,
      "visibility": null,
      "width": null
     }
    },
    "b34e856e382544e8bee9cf2c15f35a58": {
     "model_module": "@jupyter-widgets/controls",
     "model_module_version": "1.5.0",
     "model_name": "FloatProgressModel",
     "state": {
      "_dom_classes": [],
      "_model_module": "@jupyter-widgets/controls",
      "_model_module_version": "1.5.0",
      "_model_name": "FloatProgressModel",
      "_view_count": null,
      "_view_module": "@jupyter-widgets/controls",
      "_view_module_version": "1.5.0",
      "_view_name": "ProgressView",
      "bar_style": "success",
      "description": "",
      "description_tooltip": null,
      "layout": "IPY_MODEL_a10a494f7ea54c26ae3649f9a37cae03",
      "max": 456318,
      "min": 0,
      "orientation": "horizontal",
      "style": "IPY_MODEL_c2071e9242d04007b06910856aa74aec",
      "value": 456318
     }
    },
    "b55e28c435a844e1a63176dc820e10d3": {
     "model_module": "@jupyter-widgets/base",
     "model_module_version": "1.2.0",
     "model_name": "LayoutModel",
     "state": {
      "_model_module": "@jupyter-widgets/base",
      "_model_module_version": "1.2.0",
      "_model_name": "LayoutModel",
      "_view_count": null,
      "_view_module": "@jupyter-widgets/base",
      "_view_module_version": "1.2.0",
      "_view_name": "LayoutView",
      "align_content": null,
      "align_items": null,
      "align_self": null,
      "border": null,
      "bottom": null,
      "display": null,
      "flex": null,
      "flex_flow": null,
      "grid_area": null,
      "grid_auto_columns": null,
      "grid_auto_flow": null,
      "grid_auto_rows": null,
      "grid_column": null,
      "grid_gap": null,
      "grid_row": null,
      "grid_template_areas": null,
      "grid_template_columns": null,
      "grid_template_rows": null,
      "height": null,
      "justify_content": null,
      "justify_items": null,
      "left": null,
      "margin": null,
      "max_height": null,
      "max_width": null,
      "min_height": null,
      "min_width": null,
      "object_fit": null,
      "object_position": null,
      "order": null,
      "overflow": null,
      "overflow_x": null,
      "overflow_y": null,
      "padding": null,
      "right": null,
      "top": null,
      "visibility": null,
      "width": null
     }
    },
    "b6ecb75d687c448eae99a14c1fbbec71": {
     "model_module": "@jupyter-widgets/controls",
     "model_module_version": "1.5.0",
     "model_name": "HTMLModel",
     "state": {
      "_dom_classes": [],
      "_model_module": "@jupyter-widgets/controls",
      "_model_module_version": "1.5.0",
      "_model_name": "HTMLModel",
      "_view_count": null,
      "_view_module": "@jupyter-widgets/controls",
      "_view_module_version": "1.5.0",
      "_view_name": "HTMLView",
      "description": "",
      "description_tooltip": null,
      "layout": "IPY_MODEL_bc5011b7f36345488bf7bee5b539eeaa",
      "placeholder": "​",
      "style": "IPY_MODEL_b6fc4b32e9114dc1b906043c760362f7",
      "value": " 570/570 [00:00&lt;00:00, 5.04kB/s]"
     }
    },
    "b6fc4b32e9114dc1b906043c760362f7": {
     "model_module": "@jupyter-widgets/controls",
     "model_module_version": "1.5.0",
     "model_name": "DescriptionStyleModel",
     "state": {
      "_model_module": "@jupyter-widgets/controls",
      "_model_module_version": "1.5.0",
      "_model_name": "DescriptionStyleModel",
      "_view_count": null,
      "_view_module": "@jupyter-widgets/base",
      "_view_module_version": "1.2.0",
      "_view_name": "StyleView",
      "description_width": ""
     }
    },
    "bbc379f2cd2d40908b3424839bdbfa03": {
     "model_module": "@jupyter-widgets/base",
     "model_module_version": "1.2.0",
     "model_name": "LayoutModel",
     "state": {
      "_model_module": "@jupyter-widgets/base",
      "_model_module_version": "1.2.0",
      "_model_name": "LayoutModel",
      "_view_count": null,
      "_view_module": "@jupyter-widgets/base",
      "_view_module_version": "1.2.0",
      "_view_name": "LayoutView",
      "align_content": null,
      "align_items": null,
      "align_self": null,
      "border": null,
      "bottom": null,
      "display": null,
      "flex": null,
      "flex_flow": null,
      "grid_area": null,
      "grid_auto_columns": null,
      "grid_auto_flow": null,
      "grid_auto_rows": null,
      "grid_column": null,
      "grid_gap": null,
      "grid_row": null,
      "grid_template_areas": null,
      "grid_template_columns": null,
      "grid_template_rows": null,
      "height": null,
      "justify_content": null,
      "justify_items": null,
      "left": null,
      "margin": null,
      "max_height": null,
      "max_width": null,
      "min_height": null,
      "min_width": null,
      "object_fit": null,
      "object_position": null,
      "order": null,
      "overflow": null,
      "overflow_x": null,
      "overflow_y": null,
      "padding": null,
      "right": null,
      "top": null,
      "visibility": null,
      "width": null
     }
    },
    "bc5011b7f36345488bf7bee5b539eeaa": {
     "model_module": "@jupyter-widgets/base",
     "model_module_version": "1.2.0",
     "model_name": "LayoutModel",
     "state": {
      "_model_module": "@jupyter-widgets/base",
      "_model_module_version": "1.2.0",
      "_model_name": "LayoutModel",
      "_view_count": null,
      "_view_module": "@jupyter-widgets/base",
      "_view_module_version": "1.2.0",
      "_view_name": "LayoutView",
      "align_content": null,
      "align_items": null,
      "align_self": null,
      "border": null,
      "bottom": null,
      "display": null,
      "flex": null,
      "flex_flow": null,
      "grid_area": null,
      "grid_auto_columns": null,
      "grid_auto_flow": null,
      "grid_auto_rows": null,
      "grid_column": null,
      "grid_gap": null,
      "grid_row": null,
      "grid_template_areas": null,
      "grid_template_columns": null,
      "grid_template_rows": null,
      "height": null,
      "justify_content": null,
      "justify_items": null,
      "left": null,
      "margin": null,
      "max_height": null,
      "max_width": null,
      "min_height": null,
      "min_width": null,
      "object_fit": null,
      "object_position": null,
      "order": null,
      "overflow": null,
      "overflow_x": null,
      "overflow_y": null,
      "padding": null,
      "right": null,
      "top": null,
      "visibility": null,
      "width": null
     }
    },
    "bf2cb61b440e4c2fadb8f87845997596": {
     "model_module": "@jupyter-widgets/controls",
     "model_module_version": "1.5.0",
     "model_name": "HTMLModel",
     "state": {
      "_dom_classes": [],
      "_model_module": "@jupyter-widgets/controls",
      "_model_module_version": "1.5.0",
      "_model_name": "HTMLModel",
      "_view_count": null,
      "_view_module": "@jupyter-widgets/controls",
      "_view_module_version": "1.5.0",
      "_view_name": "HTMLView",
      "description": "",
      "description_tooltip": null,
      "layout": "IPY_MODEL_47e64c30613f4126bb92de6a0bd246b4",
      "placeholder": "​",
      "style": "IPY_MODEL_581e03ffd0d34f4295194b76eff6304c",
      "value": "Downloading: 100%"
     }
    },
    "bf4de76529ec4a6fb75d0bebe941daa6": {
     "model_module": "@jupyter-widgets/controls",
     "model_module_version": "1.5.0",
     "model_name": "HBoxModel",
     "state": {
      "_dom_classes": [],
      "_model_module": "@jupyter-widgets/controls",
      "_model_module_version": "1.5.0",
      "_model_name": "HBoxModel",
      "_view_count": null,
      "_view_module": "@jupyter-widgets/controls",
      "_view_module_version": "1.5.0",
      "_view_name": "HBoxView",
      "box_style": "",
      "children": [
       "IPY_MODEL_bf2cb61b440e4c2fadb8f87845997596",
       "IPY_MODEL_0e79d7960e4749309f5fa5cfc810b21d",
       "IPY_MODEL_b6ecb75d687c448eae99a14c1fbbec71"
      ],
      "layout": "IPY_MODEL_7536ee17130e40859a9269c80379fd21"
     }
    },
    "c0e38fba0b134a9f937094057bc233d5": {
     "model_module": "@jupyter-widgets/controls",
     "model_module_version": "1.5.0",
     "model_name": "ProgressStyleModel",
     "state": {
      "_model_module": "@jupyter-widgets/controls",
      "_model_module_version": "1.5.0",
      "_model_name": "ProgressStyleModel",
      "_view_count": null,
      "_view_module": "@jupyter-widgets/base",
      "_view_module_version": "1.2.0",
      "_view_name": "StyleView",
      "bar_color": null,
      "description_width": ""
     }
    },
    "c2071e9242d04007b06910856aa74aec": {
     "model_module": "@jupyter-widgets/controls",
     "model_module_version": "1.5.0",
     "model_name": "ProgressStyleModel",
     "state": {
      "_model_module": "@jupyter-widgets/controls",
      "_model_module_version": "1.5.0",
      "_model_name": "ProgressStyleModel",
      "_view_count": null,
      "_view_module": "@jupyter-widgets/base",
      "_view_module_version": "1.2.0",
      "_view_name": "StyleView",
      "bar_color": null,
      "description_width": ""
     }
    },
    "c3d9f3eebb8c46c4b39cff76fd3184e5": {
     "model_module": "@jupyter-widgets/controls",
     "model_module_version": "1.5.0",
     "model_name": "HTMLModel",
     "state": {
      "_dom_classes": [],
      "_model_module": "@jupyter-widgets/controls",
      "_model_module_version": "1.5.0",
      "_model_name": "HTMLModel",
      "_view_count": null,
      "_view_module": "@jupyter-widgets/controls",
      "_view_module_version": "1.5.0",
      "_view_name": "HTMLView",
      "description": "",
      "description_tooltip": null,
      "layout": "IPY_MODEL_01c3a7736c564eae856edf28488d71e1",
      "placeholder": "​",
      "style": "IPY_MODEL_17bf2ca4f9d7427887813063cf191e5c",
      "value": " 878k/878k [00:00&lt;00:00, 1.35MB/s]"
     }
    },
    "cb0ed9d95a094a97a36b97a27f599932": {
     "model_module": "@jupyter-widgets/controls",
     "model_module_version": "1.5.0",
     "model_name": "HTMLModel",
     "state": {
      "_dom_classes": [],
      "_model_module": "@jupyter-widgets/controls",
      "_model_module_version": "1.5.0",
      "_model_name": "HTMLModel",
      "_view_count": null,
      "_view_module": "@jupyter-widgets/controls",
      "_view_module_version": "1.5.0",
      "_view_name": "HTMLView",
      "description": "",
      "description_tooltip": null,
      "layout": "IPY_MODEL_6101d0c950c44f29a766842a0f291c88",
      "placeholder": "​",
      "style": "IPY_MODEL_2f102eac8a5a4cf4ba066389af23ab18",
      "value": "Downloading: 100%"
     }
    },
    "cf4e2eb10cb94d6b942c572cb5231580": {
     "model_module": "@jupyter-widgets/base",
     "model_module_version": "1.2.0",
     "model_name": "LayoutModel",
     "state": {
      "_model_module": "@jupyter-widgets/base",
      "_model_module_version": "1.2.0",
      "_model_name": "LayoutModel",
      "_view_count": null,
      "_view_module": "@jupyter-widgets/base",
      "_view_module_version": "1.2.0",
      "_view_name": "LayoutView",
      "align_content": null,
      "align_items": null,
      "align_self": null,
      "border": null,
      "bottom": null,
      "display": null,
      "flex": null,
      "flex_flow": null,
      "grid_area": null,
      "grid_auto_columns": null,
      "grid_auto_flow": null,
      "grid_auto_rows": null,
      "grid_column": null,
      "grid_gap": null,
      "grid_row": null,
      "grid_template_areas": null,
      "grid_template_columns": null,
      "grid_template_rows": null,
      "height": null,
      "justify_content": null,
      "justify_items": null,
      "left": null,
      "margin": null,
      "max_height": null,
      "max_width": null,
      "min_height": null,
      "min_width": null,
      "object_fit": null,
      "object_position": null,
      "order": null,
      "overflow": null,
      "overflow_x": null,
      "overflow_y": null,
      "padding": null,
      "right": null,
      "top": null,
      "visibility": null,
      "width": null
     }
    },
    "f0ee872ac4da4fc28aeaa0f9b266b848": {
     "model_module": "@jupyter-widgets/base",
     "model_module_version": "1.2.0",
     "model_name": "LayoutModel",
     "state": {
      "_model_module": "@jupyter-widgets/base",
      "_model_module_version": "1.2.0",
      "_model_name": "LayoutModel",
      "_view_count": null,
      "_view_module": "@jupyter-widgets/base",
      "_view_module_version": "1.2.0",
      "_view_name": "LayoutView",
      "align_content": null,
      "align_items": null,
      "align_self": null,
      "border": null,
      "bottom": null,
      "display": null,
      "flex": null,
      "flex_flow": null,
      "grid_area": null,
      "grid_auto_columns": null,
      "grid_auto_flow": null,
      "grid_auto_rows": null,
      "grid_column": null,
      "grid_gap": null,
      "grid_row": null,
      "grid_template_areas": null,
      "grid_template_columns": null,
      "grid_template_rows": null,
      "height": null,
      "justify_content": null,
      "justify_items": null,
      "left": null,
      "margin": null,
      "max_height": null,
      "max_width": null,
      "min_height": null,
      "min_width": null,
      "object_fit": null,
      "object_position": null,
      "order": null,
      "overflow": null,
      "overflow_x": null,
      "overflow_y": null,
      "padding": null,
      "right": null,
      "top": null,
      "visibility": null,
      "width": null
     }
    },
    "f2eee7f474e747fdad77fb862461ff9c": {
     "model_module": "@jupyter-widgets/base",
     "model_module_version": "1.2.0",
     "model_name": "LayoutModel",
     "state": {
      "_model_module": "@jupyter-widgets/base",
      "_model_module_version": "1.2.0",
      "_model_name": "LayoutModel",
      "_view_count": null,
      "_view_module": "@jupyter-widgets/base",
      "_view_module_version": "1.2.0",
      "_view_name": "LayoutView",
      "align_content": null,
      "align_items": null,
      "align_self": null,
      "border": null,
      "bottom": null,
      "display": null,
      "flex": null,
      "flex_flow": null,
      "grid_area": null,
      "grid_auto_columns": null,
      "grid_auto_flow": null,
      "grid_auto_rows": null,
      "grid_column": null,
      "grid_gap": null,
      "grid_row": null,
      "grid_template_areas": null,
      "grid_template_columns": null,
      "grid_template_rows": null,
      "height": null,
      "justify_content": null,
      "justify_items": null,
      "left": null,
      "margin": null,
      "max_height": null,
      "max_width": null,
      "min_height": null,
      "min_width": null,
      "object_fit": null,
      "object_position": null,
      "order": null,
      "overflow": null,
      "overflow_x": null,
      "overflow_y": null,
      "padding": null,
      "right": null,
      "top": null,
      "visibility": null,
      "width": null
     }
    },
    "fe8a28a2b96547a2839f6d565df9f8bb": {
     "model_module": "@jupyter-widgets/controls",
     "model_module_version": "1.5.0",
     "model_name": "ProgressStyleModel",
     "state": {
      "_model_module": "@jupyter-widgets/controls",
      "_model_module_version": "1.5.0",
      "_model_name": "ProgressStyleModel",
      "_view_count": null,
      "_view_module": "@jupyter-widgets/base",
      "_view_module_version": "1.2.0",
      "_view_name": "StyleView",
      "bar_color": null,
      "description_width": ""
     }
    }
   }
  }
 },
 "nbformat": 4,
 "nbformat_minor": 1
}
